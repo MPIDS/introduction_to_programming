{
 "cells": [
  {
   "cell_type": "markdown",
   "metadata": {
    "collapsed": true,
    "slideshow": {
     "slide_type": "slide"
    }
   },
   "source": [
    "# Introduction to\n",
    "\n",
    "![logo](https://upload.wikimedia.org/wikipedia/commons/f/f8/Python_logo_and_wordmark.svg \"Python logo\")\n"
   ]
  },
  {
   "cell_type": "markdown",
   "metadata": {
    "slideshow": {
     "slide_type": "slide"
    }
   },
   "source": [
    "## What is Python?\n",
    "\n",
    "* a general-purpose, high-level, interpreted programming language.\n",
    "* free and open source\n",
    "* easy to learn and easy to read\n",
    "* saves your time rather than CPU time\n",
    "* portable to any OS\n",
    "* used by many scientists \n",
    "   -> large set of modules for data processing/analysis/visualization/..."
   ]
  },
  {
   "cell_type": "markdown",
   "metadata": {},
   "source": [
    "*** Differences to R and MatLab ***\n",
    "\n",
    "| Python        | R | Matlab  |         \n",
    "| ------------- |---|:-------------:|\n",
    "| general-purpose | statistics | numerics |\n",
    "| free   | free | standard licence: 2000€, student licence: 35€ |\n",
    "| open source | open source | proprietary |"
   ]
  },
  {
   "cell_type": "markdown",
   "metadata": {
    "slideshow": {
     "slide_type": "slide"
    }
   },
   "source": [
    "### Hello World! in low-level and high-level programming"
   ]
  },
  {
   "cell_type": "markdown",
   "metadata": {
    "slideshow": {
     "slide_type": "fragment"
    }
   },
   "source": [
    "*** Assambler ***\n",
    "```\n",
    "MODEL   SMALL\n",
    "IDEAL\n",
    "STACK   100H\n",
    " \n",
    "DATASEG\n",
    "        MSG DB 'Hello, world!', 13, '$'\n",
    " \n",
    "CODESEG\n",
    "Start:\n",
    "        MOV AX, @data\n",
    "        MOV DS, AX\n",
    "        MOV DX, OFFSET MSG\n",
    "        MOV AH, 09H      ; DOS: output ASCII$ string\n",
    "        INT 21H\n",
    "        MOV AX, 4C00H\n",
    "        INT 21H\n",
    "END Start\n",
    "```\n",
    "```\n",
    "\n",
    "\n",
    "\n",
    "```\n",
    "\n",
    "\n",
    "*** C++ ***\n",
    "```\n",
    "#include <iostream>\n",
    "\n",
    "using namespace std;\n",
    "\n",
    "int main(){\n",
    "    cout << \"Hello, World!\" << endl;\n",
    "    return 0;\n",
    "}\n",
    "```\n",
    "\n",
    "```\n",
    "\n",
    "\n",
    "```\n",
    "\n",
    "*** Python ***\n",
    "```\n",
    "print('Hello, World!')\n",
    "```"
   ]
  },
  {
   "cell_type": "markdown",
   "metadata": {
    "slideshow": {
     "slide_type": "slide"
    }
   },
   "source": [
    "*** The philosophy of python ***"
   ]
  },
  {
   "cell_type": "code",
   "execution_count": null,
   "metadata": {
    "collapsed": false,
    "slideshow": {
     "slide_type": "subslide"
    }
   },
   "outputs": [],
   "source": [
    "import this"
   ]
  },
  {
   "cell_type": "markdown",
   "metadata": {
    "slideshow": {
     "slide_type": "slide"
    }
   },
   "source": [
    "*** How to fly ***"
   ]
  },
  {
   "cell_type": "code",
   "execution_count": null,
   "metadata": {
    "collapsed": true,
    "slideshow": {
     "slide_type": "subslide"
    }
   },
   "outputs": [],
   "source": [
    "import antigravity"
   ]
  },
  {
   "cell_type": "markdown",
   "metadata": {
    "slideshow": {
     "slide_type": "slide"
    }
   },
   "source": [
    "## How to use Python\n",
    "\n",
    "* interactive interpreter (python, ipython)\n",
    "* scripts (there is no standard IDE, use your favourite text editor)\n",
    "* jupyter (aka ipython notebook)"
   ]
  },
  {
   "cell_type": "markdown",
   "metadata": {
    "slideshow": {
     "slide_type": "slide"
    }
   },
   "source": [
    "## A short intro to jupyter"
   ]
  },
  {
   "cell_type": "markdown",
   "metadata": {},
   "source": [
    "The Jupyter Notebook is a web application that allows you to create documents that contain live code, equations, visualizations and explanatory text. "
   ]
  },
  {
   "cell_type": "markdown",
   "metadata": {
    "slideshow": {
     "slide_type": "fragment"
    }
   },
   "source": [
    "### Code cells"
   ]
  },
  {
   "cell_type": "code",
   "execution_count": null,
   "metadata": {
    "collapsed": false,
    "slideshow": {
     "slide_type": "fragment"
    }
   },
   "outputs": [],
   "source": [
    "3*3+2"
   ]
  },
  {
   "cell_type": "markdown",
   "metadata": {
    "slideshow": {
     "slide_type": "fragment"
    }
   },
   "source": [
    "In code cells, you can use *** tab completion ***:"
   ]
  },
  {
   "cell_type": "code",
   "execution_count": null,
   "metadata": {
    "collapsed": true,
    "slideshow": {
     "slide_type": "fragment"
    }
   },
   "outputs": [],
   "source": [
    "import math"
   ]
  },
  {
   "cell_type": "code",
   "execution_count": null,
   "metadata": {
    "collapsed": false,
    "slideshow": {
     "slide_type": "fragment"
    }
   },
   "outputs": [],
   "source": [
    "#type math. and press <tab>\n",
    "math."
   ]
  },
  {
   "cell_type": "markdown",
   "metadata": {
    "slideshow": {
     "slide_type": "subslide"
    }
   },
   "source": [
    "### Inline plots & interactive widgets"
   ]
  },
  {
   "cell_type": "code",
   "execution_count": 1,
   "metadata": {
    "collapsed": false,
    "slideshow": {
     "slide_type": "slide"
    }
   },
   "outputs": [
    {
     "data": {
      "image/png": "[encoded data removed]",
      "text/plain": [
       "<matplotlib.figure.Figure at 0x7fb108456f28>"
      ]
     },
     "metadata": {},
     "output_type": "display_data"
    }
   ],
   "source": [
    "%matplotlib inline\n",
    "import pylab as pl\n",
    "import numpy as np\n",
    "#from IPython.html.widgets import interact #deprecated\n",
    "from ipywidgets import interact\n",
    "\n",
    "def plot(frequency):\n",
    "    x = np.arange(1000)\n",
    "    pl.plot(x, np.sin(2*np.pi*frequency*x/1000))\n",
    "interact(plot, frequency=(0,20,1))"
   ]
  },
  {
   "cell_type": "markdown",
   "metadata": {
    "slideshow": {
     "slide_type": "subslide"
    }
   },
   "source": [
    "### jupyter is language agnostic"
   ]
  },
  {
   "cell_type": "code",
   "execution_count": null,
   "metadata": {
    "collapsed": false,
    "slideshow": {
     "slide_type": "fragment"
    }
   },
   "outputs": [],
   "source": [
    "print(\"jupyter's native language is python.\")"
   ]
  },
  {
   "cell_type": "code",
   "execution_count": null,
   "metadata": {
    "collapsed": false,
    "slideshow": {
     "slide_type": "fragment"
    }
   },
   "outputs": [],
   "source": [
    "%%perl\n",
    "\n",
    "print \"Jupyter understands perl.\";"
   ]
  },
  {
   "cell_type": "code",
   "execution_count": null,
   "metadata": {
    "collapsed": false,
    "slideshow": {
     "slide_type": "fragment"
    }
   },
   "outputs": [],
   "source": [
    "%%bash\n",
    "\n",
    "echo Jupyter can execute bash commands"
   ]
  },
  {
   "cell_type": "code",
   "execution_count": null,
   "metadata": {
    "collapsed": false,
    "slideshow": {
     "slide_type": "fragment"
    }
   },
   "outputs": [],
   "source": [
    "%%javascript\n",
    "\n",
    "alert('Jupyter understands javascript.')"
   ]
  },
  {
   "cell_type": "markdown",
   "metadata": {
    "slideshow": {
     "slide_type": "fragment"
    }
   },
   "source": [
    "Additional kernels can be installed: Octave, Matlab, R, C++, and many more"
   ]
  },
  {
   "cell_type": "markdown",
   "metadata": {
    "slideshow": {
     "slide_type": "subslide"
    }
   },
   "source": [
    "### Markdown cells\n",
    "\n",
    "Markdown is a lightweight markup language.\n",
    "\n",
    "#### This is a heading\n",
    "\n",
    "This is a list:\n",
    "\n",
    "  * apples\n",
    "  * oranges\n",
    "  * pears\n",
    "\n",
    "A numbered list:\n",
    "\n",
    "  1. apples\n",
    "  2. oranges\n",
    "  3. pears\n",
    "\n",
    "LaTeX equations \n",
    "\n",
    "\\begin{align}\n",
    "f(x \\; | \\; \\mu, \\sigma) = \\frac{1}{\\sigma\\sqrt{2\\pi} } \\; e^{ -\\frac{(x-\\mu)^2}{2\\sigma^2} }\n",
    "\\end{align}\n",
    "\n",
    "Tables:\n",
    "\n",
    "| column 1      | column 2  |         \n",
    "| ------------- |:-------------:|\n",
    "| row 1         | a         |\n",
    "| row 2         | b         |\n",
    "| row 3         | c         | \n",
    "\n",
    "\n",
    "And this is a [link where you find more about markdown syntax](https://github.com/adam-p/markdown-here/wiki/Markdown-Cheatsheet)."
   ]
  },
  {
   "cell_type": "markdown",
   "metadata": {
    "slideshow": {
     "slide_type": "subslide"
    }
   },
   "source": [
    "### Presentations\n",
    "\n",
    "1. At \"Cell Toolbar:\" choose \"slideshow\" mode.\n",
    "2. On the top right of each cell choose the \"slide type\".\n",
    "3. Start the presentation with (depending on your installation):\n",
    "   * ipython nbconvert --to slides introduction.ipynb --reveal-prefix=reveal.js --post serve\n",
    "   * jupyter-nbconvert --to slides introduction.ipynb --reveal-prefix=reveal.js --post serve"
   ]
  },
  {
   "cell_type": "markdown",
   "metadata": {
    "slideshow": {
     "slide_type": "slide"
    }
   },
   "source": [
    "## Error messages"
   ]
  },
  {
   "cell_type": "code",
   "execution_count": null,
   "metadata": {
    "collapsed": false,
    "slideshow": {
     "slide_type": "fragment"
    }
   },
   "outputs": [],
   "source": [
    "def isprime(n): \n",
    "    \"\"\"Check if a given number is a prime number.\n",
    "    \n",
    "    Parameters:\n",
    "    -----------\n",
    "    n:  int\n",
    "    \n",
    "    Return:\n",
    "    -------\n",
    "    out: bool\n",
    "    \"\"\" \n",
    "    for x in range(2, n-1): \n",
    "        if n % x == 0:       #if n modulo x equals 0\n",
    "            return False     #then n is not a prime number\n",
    "    return True "
   ]
  },
  {
   "cell_type": "code",
   "execution_count": null,
   "metadata": {
    "collapsed": false,
    "slideshow": {
     "slide_type": "fragment"
    }
   },
   "outputs": [],
   "source": [
    "print(isprime(13))"
   ]
  },
  {
   "cell_type": "code",
   "execution_count": null,
   "metadata": {
    "collapsed": false,
    "slideshow": {
     "slide_type": "fragment"
    }
   },
   "outputs": [],
   "source": [
    "print(\"Is the word 'prime' a prime number?\")\n",
    "print(isprime(\"prime\"))"
   ]
  },
  {
   "cell_type": "markdown",
   "metadata": {
    "slideshow": {
     "slide_type": "subslide"
    }
   },
   "source": [
    "## The Help function"
   ]
  },
  {
   "cell_type": "code",
   "execution_count": null,
   "metadata": {
    "collapsed": false,
    "slideshow": {
     "slide_type": "fragment"
    }
   },
   "outputs": [],
   "source": [
    "help(isprime)"
   ]
  },
  {
   "cell_type": "markdown",
   "metadata": {
    "slideshow": {
     "slide_type": "fragment"
    }
   },
   "source": [
    "help() can be applyed to any object, try for example:\n",
    "\n",
    "* help(isprime)\n",
    "* help(isprime(17))\n",
    "* help(23)\n",
    "* help(\"what is this?\")\n",
    "* help(help)"
   ]
  },
  {
   "cell_type": "markdown",
   "metadata": {
    "slideshow": {
     "slide_type": "slide"
    }
   },
   "source": [
    "## The python ecosystem"
   ]
  },
  {
   "cell_type": "code",
   "execution_count": null,
   "metadata": {
    "collapsed": false,
    "slideshow": {
     "slide_type": "fragment"
    }
   },
   "outputs": [],
   "source": [
    "from IPython.display import SVG\n",
    "SVG(filename='python-stack.svg')"
   ]
  },
  {
   "cell_type": "code",
   "execution_count": null,
   "metadata": {
    "collapsed": true
   },
   "outputs": [],
   "source": []
  }
 ],
 "metadata": {
  "kernelspec": {
   "display_name": "Python 3",
   "language": "python",
   "name": "python3"
  },
  "language_info": {
   "codemirror_mode": {
    "name": "ipython",
    "version": 3
   },
   "file_extension": ".py",
   "mimetype": "text/x-python",
   "name": "python",
   "nbconvert_exporter": "python",
   "pygments_lexer": "ipython3",
   "version": "3.5.2+"
  },
  "widgets": {
   "state": {
    "19a64a1117764110a887c1c1c3a41a1e": {
     "views": [
      {
       "cell_index": 18
      }
     ]
    }
   },
   "version": "1.2.0"
  }
 },
 "nbformat": 4,
 "nbformat_minor": 0
}
