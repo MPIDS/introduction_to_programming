{
 "cells": [
  {
   "cell_type": "markdown",
   "metadata": {
    "collapsed": false,
    "slideshow": {
     "slide_type": "notes"
    }
   },
   "source": [
    "# Python basics - part III"
   ]
  },
  {
   "cell_type": "markdown",
   "metadata": {},
   "source": [
    "## Strings"
   ]
  },
  {
   "cell_type": "code",
   "execution_count": 4,
   "metadata": {
    "collapsed": false,
    "slideshow": {
     "slide_type": "fragment"
    }
   },
   "outputs": [],
   "source": [
    "myStr = 'star'"
   ]
  },
  {
   "cell_type": "code",
   "execution_count": 5,
   "metadata": {
    "collapsed": true
   },
   "outputs": [],
   "source": [
    "import numpy as np"
   ]
  },
  {
   "cell_type": "markdown",
   "metadata": {
    "slideshow": {
     "slide_type": "slide"
    }
   },
   "source": [
    "## String operations"
   ]
  },
  {
   "cell_type": "code",
   "execution_count": 6,
   "metadata": {
    "collapsed": false,
    "slideshow": {
     "slide_type": "fragment"
    }
   },
   "outputs": [
    {
     "name": "stdout",
     "output_type": "stream",
     "text": [
      "don't read it\n"
     ]
    }
   ],
   "source": [
    "x = \"don't read it\"\n",
    "x.upper()\n",
    "print(x)"
   ]
  },
  {
   "cell_type": "markdown",
   "metadata": {
    "slideshow": {
     "slide_type": "fragment"
    }
   },
   "source": [
    "* strings have many methods:\n",
    "\n",
    "    - `count, split, endswith, find, center, index, replace ...`\n",
    "    \n",
    "    - check the **Python documentation** for many other handy string operations\n",
    "    \n",
    "* Helpful hint:  `<string>.strip()` strip's off final newlines from lines read from files"
   ]
  },
  {
   "cell_type": "markdown",
   "metadata": {
    "slideshow": {
     "slide_type": "slide"
    }
   },
   "source": [
    "## Printing with Python"
   ]
  },
  {
   "cell_type": "code",
   "execution_count": 7,
   "metadata": {
    "collapsed": false
   },
   "outputs": [
    {
     "name": "stdout",
     "output_type": "stream",
     "text": [
      "pi is roughly 3.141592653589793\n"
     ]
    }
   ],
   "source": [
    "x = np.pi\n",
    "\n",
    "print(\"pi is roughly \"+str(x))"
   ]
  },
  {
   "cell_type": "code",
   "execution_count": 10,
   "metadata": {
    "collapsed": false,
    "slideshow": {
     "slide_type": "fragment"
    }
   },
   "outputs": [
    {
     "name": "stdout",
     "output_type": "stream",
     "text": [
      "number : 3.14 \n",
      "\t   x 2 =        6.3\n",
      "\t   x 3 = 9.42\n"
     ]
    }
   ],
   "source": [
    "\n",
    "\n",
    "print( 'number : {:.2f} \\n\\t   x 2 = {:10.1f}\\n\\t   x 3 = {:3.2f}'.format(x, x*2, x*3) )"
   ]
  },
  {
   "cell_type": "code",
   "execution_count": 11,
   "metadata": {
    "collapsed": false,
    "slideshow": {
     "slide_type": "fragment"
    }
   },
   "outputs": [
    {
     "name": "stdout",
     "output_type": "stream",
     "text": [
      "pi:\t3.14\t3.142e+00\n"
     ]
    }
   ],
   "source": [
    "x = 3.14159\n",
    "print('pi:\\t{a:.2f}\\t{a:.3e}'.format(a=x) )\n"
   ]
  },
  {
   "cell_type": "markdown",
   "metadata": {
    "slideshow": {
     "slide_type": "slide"
    }
   },
   "source": [
    "# Dictionaries"
   ]
  },
  {
   "cell_type": "markdown",
   "metadata": {
    "slideshow": {
     "slide_type": "fragment"
    }
   },
   "source": [
    "* mapping between `keys` and `values`\n",
    "\n",
    "    * `keys` can be any immutable type\n",
    "\n",
    "    * `values` can be any type\n",
    "\n",
    "* A single dictionary can store values of different types\n",
    "\n",
    "* You can:\n",
    "\n",
    "    - modify it\n",
    "            \n",
    "    - delete the key-value pairs in the dictionary\n",
    "   "
   ]
  },
  {
   "cell_type": "markdown",
   "metadata": {
    "slideshow": {
     "slide_type": "fragment"
    }
   },
   "source": [
    "Creating a dictionary"
   ]
  },
  {
   "cell_type": "code",
   "execution_count": 16,
   "metadata": {
    "collapsed": false,
    "slideshow": {
     "slide_type": "fragment"
    }
   },
   "outputs": [],
   "source": [
    "di = {'a' : 1, 'b' : 'hey'}"
   ]
  },
  {
   "cell_type": "markdown",
   "metadata": {
    "slideshow": {
     "slide_type": "fragment"
    }
   },
   "source": [
    "Accessing the elements of a dictionary"
   ]
  },
  {
   "cell_type": "code",
   "execution_count": 17,
   "metadata": {
    "collapsed": false,
    "slideshow": {
     "slide_type": "fragment"
    }
   },
   "outputs": [
    {
     "name": "stdout",
     "output_type": "stream",
     "text": [
      "dict_keys(['a', 'b']) dict_values([1, 'hey']) dict_items([('a', 1), ('b', 'hey')])\n"
     ]
    }
   ],
   "source": [
    "print(di.keys(), di.values(), di.items())"
   ]
  },
  {
   "cell_type": "markdown",
   "metadata": {
    "slideshow": {
     "slide_type": "fragment"
    }
   },
   "source": [
    "Updating dictionaries"
   ]
  },
  {
   "cell_type": "code",
   "execution_count": 23,
   "metadata": {
    "collapsed": false,
    "slideshow": {
     "slide_type": "fragment"
    }
   },
   "outputs": [
    {
     "name": "stdout",
     "output_type": "stream",
     "text": [
      "{1: 'one'}\n"
     ]
    }
   ],
   "source": [
    "di[1]='one'\n",
    "print(di)"
   ]
  },
  {
   "cell_type": "markdown",
   "metadata": {
    "slideshow": {
     "slide_type": "fragment"
    }
   },
   "source": [
    "Removing dictionary entries"
   ]
  },
  {
   "cell_type": "code",
   "execution_count": 24,
   "metadata": {
    "collapsed": false,
    "slideshow": {
     "slide_type": "fragment"
    }
   },
   "outputs": [
    {
     "name": "stdout",
     "output_type": "stream",
     "text": [
      "{}\n"
     ]
    }
   ],
   "source": [
    "del di[1] # one antry\n",
    "di.clear() # the whole dictionary\n",
    "print(di)"
   ]
  },
  {
   "cell_type": "markdown",
   "metadata": {
    "slideshow": {
     "slide_type": "slide"
    }
   },
   "source": [
    "# Functions\n",
    "\n"
   ]
  },
  {
   "cell_type": "code",
   "execution_count": 25,
   "metadata": {
    "collapsed": false,
    "slideshow": {
     "slide_type": "fragment"
    }
   },
   "outputs": [],
   "source": [
    "def myDivision(x,y):\n",
    "    \"\"\"\n",
    "    this function returns x divided by y\n",
    "    \"\"\"  \n",
    "    return 1.0*x/y"
   ]
  },
  {
   "cell_type": "markdown",
   "metadata": {
    "slideshow": {
     "slide_type": "fragment"
    }
   },
   "source": [
    "Functions are specified by their name"
   ]
  },
  {
   "cell_type": "code",
   "execution_count": 26,
   "metadata": {
    "collapsed": false,
    "slideshow": {
     "slide_type": "fragment"
    }
   },
   "outputs": [
    {
     "data": {
      "text/plain": [
       "1.5"
      ]
     },
     "execution_count": 26,
     "metadata": {},
     "output_type": "execute_result"
    }
   ],
   "source": [
    "myDivision(3,2)"
   ]
  },
  {
   "cell_type": "markdown",
   "metadata": {
    "slideshow": {
     "slide_type": "fragment"
    }
   },
   "source": [
    "The documentation string"
   ]
  },
  {
   "cell_type": "code",
   "execution_count": 27,
   "metadata": {
    "collapsed": false,
    "slideshow": {
     "slide_type": "fragment"
    }
   },
   "outputs": [
    {
     "name": "stdout",
     "output_type": "stream",
     "text": [
      "Help on function myDivision in module __main__:\n",
      "\n",
      "myDivision(x, y)\n",
      "    this function returns x divided by y\n",
      "\n"
     ]
    }
   ],
   "source": [
    "help(myDivision)"
   ]
  },
  {
   "cell_type": "markdown",
   "metadata": {
    "slideshow": {
     "slide_type": "fragment"
    }
   },
   "source": [
    "Useful function statement \n",
    "\n",
    "`assert(x > 0)`, makes sure that the argument is positive"
   ]
  },
  {
   "cell_type": "code",
   "execution_count": 28,
   "metadata": {
    "collapsed": false,
    "slideshow": {
     "slide_type": "fragment"
    }
   },
   "outputs": [],
   "source": [
    "def myDivision(x,y):\n",
    "    \"\"\"\n",
    "    this function returns x divided by y\n",
    "    \"\"\"  \n",
    "    assert(abs(y)>0), \"y cannot be zero!\"\n",
    "    return x/y"
   ]
  },
  {
   "cell_type": "code",
   "execution_count": 29,
   "metadata": {
    "collapsed": false,
    "slideshow": {
     "slide_type": "fragment"
    }
   },
   "outputs": [
    {
     "ename": "AssertionError",
     "evalue": "y cannot be zero!",
     "output_type": "error",
     "traceback": [
      "\u001b[0;31m---------------------------------------------------------------------------\u001b[0m",
      "\u001b[0;31mAssertionError\u001b[0m                            Traceback (most recent call last)",
      "\u001b[0;32m<ipython-input-29-d95d8ac0d467>\u001b[0m in \u001b[0;36m<module>\u001b[0;34m()\u001b[0m\n\u001b[0;32m----> 1\u001b[0;31m \u001b[0mmyDivision\u001b[0m\u001b[0;34m(\u001b[0m\u001b[0;36m1\u001b[0m\u001b[0;34m,\u001b[0m\u001b[0;36m0\u001b[0m\u001b[0;34m)\u001b[0m\u001b[0;34m\u001b[0m\u001b[0m\n\u001b[0m",
      "\u001b[0;32m<ipython-input-28-d226239496ba>\u001b[0m in \u001b[0;36mmyDivision\u001b[0;34m(x, y)\u001b[0m\n\u001b[1;32m      3\u001b[0m     \u001b[0mthis\u001b[0m \u001b[0mfunction\u001b[0m \u001b[0mreturns\u001b[0m \u001b[0mx\u001b[0m \u001b[0mdivided\u001b[0m \u001b[0mby\u001b[0m \u001b[0my\u001b[0m\u001b[0;34m\u001b[0m\u001b[0m\n\u001b[1;32m      4\u001b[0m     \"\"\"  \n\u001b[0;32m----> 5\u001b[0;31m     \u001b[0;32massert\u001b[0m\u001b[0;34m(\u001b[0m\u001b[0mabs\u001b[0m\u001b[0;34m(\u001b[0m\u001b[0my\u001b[0m\u001b[0;34m)\u001b[0m\u001b[0;34m>\u001b[0m\u001b[0;36m0\u001b[0m\u001b[0;34m)\u001b[0m\u001b[0;34m,\u001b[0m \u001b[0;34m\"y cannot be zero!\"\u001b[0m\u001b[0;34m\u001b[0m\u001b[0m\n\u001b[0m\u001b[1;32m      6\u001b[0m     \u001b[0;32mreturn\u001b[0m \u001b[0mx\u001b[0m\u001b[0;34m/\u001b[0m\u001b[0my\u001b[0m\u001b[0;34m\u001b[0m\u001b[0m\n",
      "\u001b[0;31mAssertionError\u001b[0m: y cannot be zero!"
     ]
    }
   ],
   "source": [
    "myDivision(1,0)"
   ]
  },
  {
   "cell_type": "code",
   "execution_count": 30,
   "metadata": {
    "collapsed": false
   },
   "outputs": [
    {
     "name": "stdout",
     "output_type": "stream",
     "text": [
      "Help on function myDivision in module __main__:\n",
      "\n",
      "myDivision(x, y)\n",
      "    this function returns x divided by y\n",
      "\n"
     ]
    }
   ],
   "source": [
    "help(myDivision)"
   ]
  },
  {
   "cell_type": "markdown",
   "metadata": {
    "slideshow": {
     "slide_type": "slide"
    }
   },
   "source": [
    "## Default values\n",
    "\n",
    "calling a function with default values"
   ]
  },
  {
   "cell_type": "code",
   "execution_count": 31,
   "metadata": {
    "collapsed": false,
    "slideshow": {
     "slide_type": "fragment"
    }
   },
   "outputs": [],
   "source": [
    "def myfun(x=2,y=5):   \n",
    "    return x*y"
   ]
  },
  {
   "cell_type": "markdown",
   "metadata": {
    "slideshow": {
     "slide_type": "fragment"
    }
   },
   "source": [
    "`myfun()`\n",
    "\n",
    "`myfun(10)`\n",
    "\n",
    "`myfun(y=10)`"
   ]
  },
  {
   "cell_type": "markdown",
   "metadata": {
    "slideshow": {
     "slide_type": "slide"
    }
   },
   "source": [
    "## Functions without returns\n",
    "\n",
    "\n",
    "* all functions in Python have a return value \n",
    "\n",
    "    - even if no return line inside the code\n",
    "\n",
    "* functions without a return return the special value `None`\n",
    "\n",
    "    * `None` is a special constant in the language.\n",
    "\n",
    "    * The interpreter doesn’t print `None`"
   ]
  },
  {
   "cell_type": "code",
   "execution_count": 32,
   "metadata": {
    "collapsed": false,
    "slideshow": {
     "slide_type": "fragment"
    }
   },
   "outputs": [
    {
     "name": "stdout",
     "output_type": "stream",
     "text": [
      "'x'= None\n"
     ]
    }
   ],
   "source": [
    "def fun(x,y):\n",
    "    ''' bla bla'''\n",
    "\n",
    "x = fun(1,2)\n",
    "print(\"'x'=\", x)\n",
    "x"
   ]
  },
  {
   "cell_type": "code",
   "execution_count": 37,
   "metadata": {
    "collapsed": false
   },
   "outputs": [
    {
     "name": "stdout",
     "output_type": "stream",
     "text": [
      "10\n"
     ]
    }
   ],
   "source": [
    "def sum(a,b):\n",
    "    return a+b\n",
    "x=sum(5,5)\n",
    "print(x)"
   ]
  },
  {
   "cell_type": "code",
   "execution_count": 43,
   "metadata": {
    "collapsed": false
   },
   "outputs": [
    {
     "data": {
      "text/plain": [
       "3.141592653589793"
      ]
     },
     "execution_count": 43,
     "metadata": {},
     "output_type": "execute_result"
    }
   ],
   "source": [
    "from numpy import pi as awesomeNumber\n",
    "awesomeNumber"
   ]
  },
  {
   "cell_type": "markdown",
   "metadata": {
    "slideshow": {
     "slide_type": "slide"
    }
   },
   "source": [
    "# Modules\n"
   ]
  },
  {
   "cell_type": "markdown",
   "metadata": {
    "slideshow": {
     "slide_type": "fragment"
    }
   },
   "source": [
    "**why?**\n",
    "\n",
    "* Use classes & functions defined in another file\n",
    "* <s>copy pasting code</s>"
   ]
  },
  {
   "cell_type": "markdown",
   "metadata": {
    "slideshow": {
     "slide_type": "fragment"
    }
   },
   "source": [
    "**what?**\n",
    "\n",
    "- A Python module is a file with the same name (plus the .py extension)\n",
    "\n"
   ]
  },
  {
   "cell_type": "markdown",
   "metadata": {
    "slideshow": {
     "slide_type": "fragment"
    }
   },
   "source": [
    "Like Java import, C++ *include*\n",
    "\n",
    "* Three formats of the command:\n",
    "\n",
    "        ```\n",
    "\t\timport somefile (as sf)\n",
    "\t\tfrom somefile import *\n",
    "\t\tfrom somefile import className\n",
    "        ```"
   ]
  },
  {
   "cell_type": "markdown",
   "metadata": {
    "slideshow": {
     "slide_type": "slide"
    }
   },
   "source": [
    "## `import`"
   ]
  },
  {
   "cell_type": "markdown",
   "metadata": {
    "slideshow": {
     "slide_type": "fragment"
    }
   },
   "source": [
    "`import somefile`\n",
    "\n",
    "* Everything in `somefile.py` gets imported\n",
    "\n",
    "* to refer to something in the file, append the text `somefile.` to the front of its name:\n",
    "\n",
    "    - `somefile.myFunction(34)`\n",
    " \n",
    " \n"
   ]
  },
  {
   "cell_type": "markdown",
   "metadata": {
    "slideshow": {
     "slide_type": "subslide"
    }
   },
   "source": [
    "**`import somefile as sf`**\n",
    "\n",
    "* import with an alias\n",
    "\n",
    "* to refer to something in the file, append the text `sf.` to the front of its name:\n",
    "\n",
    "    - `sf.myFunction(34)`"
   ]
  },
  {
   "cell_type": "markdown",
   "metadata": {
    "slideshow": {
     "slide_type": "slide"
    }
   },
   "source": [
    "## `from ...  import` \n"
   ]
  },
  {
   "cell_type": "markdown",
   "metadata": {
    "slideshow": {
     "slide_type": "fragment"
    }
   },
   "source": [
    "**`from somefile import *`**\n",
    "\n",
    "* everything in `somefile.py` gets imported\n",
    "\n",
    "* to refer to anything in the module, just use its name \n",
    "\n",
    "    - everything in the module is now in the current namespace\n",
    "\n",
    "* CAUTION! using this import command can easily overwrite the definition of an existing function or variable"
   ]
  },
  {
   "cell_type": "markdown",
   "metadata": {
    "slideshow": {
     "slide_type": "fragment"
    }
   },
   "source": [
    "**`from somefile import myFunction`**\n",
    "\n",
    "* Only the item `myFunction` in `somefile.py` gets imported\n",
    "\n",
    "* you can just use it without a module prefix\n",
    "\n",
    "    - It’s brought into the current namespace\n",
    "    \n",
    "* CAUTION! This will overwrite the definition of this particular name if it is already defined in the current namespace!"
   ]
  },
  {
   "cell_type": "markdown",
   "metadata": {
    "slideshow": {
     "slide_type": "slide"
    }
   },
   "source": [
    "## Commonly Used Modules\n"
   ]
  },
  {
   "cell_type": "markdown",
   "metadata": {
    "slideshow": {
     "slide_type": "fragment"
    }
   },
   "source": [
    "Some useful modules to import coming along with Python installation:"
   ]
  },
  {
   "cell_type": "markdown",
   "metadata": {
    "slideshow": {
     "slide_type": "fragment"
    }
   },
   "source": [
    "- **`sys`**\t\t     - Lots of handy stuff\n",
    "\n",
    "    * `argv`\n",
    "    \n",
    "    * `sys.path.append`\n",
    "\n",
    "\n",
    "- **`os`**\t\t\t- OS specific code\n",
    "\n",
    "    * `listdir, system, …`\n",
    "    \n",
    "    * `os.path`\t\t- directory processing\n",
    "    \n",
    "    \n",
    "- **`math`**\t\t- mathematical code   \n",
    "    - `sin, cos, exp, log, sqrt, …`\n",
    "    \n",
    "    \n",
    "- **`random`**\t- random number code\n",
    "\n",
    "    - `uniform, choice, shuffle`\n",
    "\n",
    "\n",
    "- **`argparse`** - script input parsing"
   ]
  },
  {
   "cell_type": "markdown",
   "metadata": {
    "slideshow": {
     "slide_type": "slide"
    }
   },
   "source": [
    "### For Scientists"
   ]
  },
  {
   "cell_type": "markdown",
   "metadata": {
    "slideshow": {
     "slide_type": "fragment"
    }
   },
   "source": [
    "\n",
    "* **`numpy`**\t\t- basis for numerics\n",
    "\n",
    "    * powerful `numpy` array\n",
    "    \n",
    "    * efficient functions on `numpy` arrays\n",
    "    \n",
    "    \n",
    "* **`scipy`**`\t\t- advanced methods\n",
    "\n",
    "    * linear algebra\n",
    "    \n",
    "    * integration, ODE solving, …  \n",
    "    \n",
    "    \n",
    "* **`matplotlib`**\t- matlab like plotting\n",
    "\n",
    "    * plotting"
   ]
  },
  {
   "cell_type": "code",
   "execution_count": null,
   "metadata": {
    "collapsed": false
   },
   "outputs": [],
   "source": []
  },
  {
   "cell_type": "code",
   "execution_count": null,
   "metadata": {
    "collapsed": true
   },
   "outputs": [],
   "source": []
  }
 ],
 "metadata": {
  "kernelspec": {
   "display_name": "Python 3",
   "language": "python",
   "name": "python3"
  },
  "language_info": {
   "codemirror_mode": {
    "name": "ipython",
    "version": 3
   },
   "file_extension": ".py",
   "mimetype": "text/x-python",
   "name": "python",
   "nbconvert_exporter": "python",
   "pygments_lexer": "ipython3",
   "version": "3.5.2"
  }
 },
 "nbformat": 4,
 "nbformat_minor": 0
}
