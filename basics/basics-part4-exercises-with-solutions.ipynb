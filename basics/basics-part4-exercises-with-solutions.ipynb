{
 "cells": [
  {
   "cell_type": "markdown",
   "metadata": {},
   "source": [
    "# 8.  Histogram class"
   ]
  },
  {
   "cell_type": "markdown",
   "metadata": {},
   "source": [
    "*Learned Skills: Classes;Creating a function; List handling; Random numbers*"
   ]
  },
  {
   "cell_type": "markdown",
   "metadata": {},
   "source": [
    "1\\. Write a class with a function `eat_data(data)` and a function `create_histogram(num_bins)`. While the first function should add supplied data to the internally stored (previously supplied) data, the second function calculates the histogram of the current data set, where num_bins gives the number of intervals in which the data\n",
    "range is divided.\n",
    "\n",
    "The function `calculate_histogram(num_bins)` should return a tuple of two lists of equal lengths. The first list\n",
    "contains the midpoints of the intervals and the second list contains the counts of\n",
    "data points in the interval."
   ]
  },
  {
   "cell_type": "markdown",
   "metadata": {},
   "source": [
    "2\\. Add a function, that gives a pseudo-graphical representation of the distribution, by drawing a number of\n",
    "stars corresponding to the number of data elements in a given interval. Example:"
   ]
  },
  {
   "cell_type": "code",
   "execution_count": 44,
   "metadata": {
    "collapsed": false
   },
   "outputs": [
    {
     "ename": "SyntaxError",
     "evalue": "invalid syntax (<ipython-input-44-e52dd12b8755>, line 11)",
     "output_type": "error",
     "traceback": [
      "\u001b[0;36m  File \u001b[0;32m\"<ipython-input-44-e52dd12b8755>\"\u001b[0;36m, line \u001b[0;32m11\u001b[0m\n\u001b[0;31m    ***\u001b[0m\n\u001b[0m     ^\u001b[0m\n\u001b[0;31mSyntaxError\u001b[0m\u001b[0;31m:\u001b[0m invalid syntax\n"
     ]
    }
   ],
   "source": [
    "0.0\n",
    "0.5\n",
    "1.0\n",
    "1.5\n",
    "2.0\n",
    "2.5\n",
    "3.0\n",
    "3.5\n",
    "4.0\n",
    "\n",
    "***\n",
    "*****\n",
    "********\n",
    "******************\n",
    "*************\n",
    "**********\n",
    "********\n",
    "******\n",
    "**"
   ]
  },
  {
   "cell_type": "markdown",
   "metadata": {},
   "source": [
    "3\\. Test the function by drawing samples from different probability distributions from the package $\\mathtt{random}$."
   ]
  },
  {
   "cell_type": "markdown",
   "metadata": {},
   "source": [
    "*** Solution: ***"
   ]
  },
  {
   "cell_type": "code",
   "execution_count": 8,
   "metadata": {
    "collapsed": true
   },
   "outputs": [],
   "source": [
    "class Histogram:\n",
    "    '''A class which can store data and return or draw the histogram.'''\n",
    "    def __init__(self):\n",
    "        self.data = []\n",
    "    def eat_data(self, data):\n",
    "        self.data.extend(data)\n",
    "    def calculate_histogram(self, num_bins):\n",
    "        minimum = min(self.data)-1e-10\n",
    "        maximum = max(self.data)\n",
    "        interval_length=(maximum-minimum)/num_bins\n",
    "        interval_edges = [minimum+i*interval_length for i in range(num_bins)]\n",
    "        interval_edges.append(maximum)\n",
    "        counts = [0]*num_bins\n",
    "        for element in self.data:\n",
    "            for ii,left_edge in enumerate(interval_edges[:-1]):\n",
    "                if element>left_edge and element<=interval_edges[ii+1]:\n",
    "                    counts[ii]+=1\n",
    "        return counts\n",
    "    def draw_histogram(self,num_bins):\n",
    "        for c in self.calculate_histogram(num_bins):\n",
    "            print(c*'*')\n",
    "        "
   ]
  },
  {
   "cell_type": "code",
   "execution_count": 43,
   "metadata": {
    "collapsed": false,
    "scrolled": true
   },
   "outputs": [
    {
     "name": "stdout",
     "output_type": "stream",
     "text": [
      "Histogram of Gauss distributed random numbers:\n",
      "*\n",
      "***\n",
      "*****\n",
      "**********\n",
      "***********\n",
      "***************\n",
      "***************************************\n",
      "*************************************************\n",
      "**********************************************\n",
      "**********************************************\n",
      "************************************************************\n",
      "*******************************************************\n",
      "**********************************\n",
      "************************************\n",
      "**********************************\n",
      "*************************\n",
      "******************\n",
      "*******\n",
      "****\n",
      "**\n",
      "Histogram of uniformly distributed random numbers:\n",
      "*********************\n",
      "**********************\n",
      "*****************************\n",
      "******************************\n",
      "*****************************\n",
      "*****************************\n",
      "*******************************\n",
      "************************\n",
      "*********************************\n",
      "*************************\n",
      "***********************\n",
      "**************\n",
      "*************************\n",
      "*****************\n",
      "*****************************\n",
      "*****************************\n",
      "***************************\n",
      "****************\n",
      "**********************\n",
      "*************************\n"
     ]
    }
   ],
   "source": [
    "N = 500\n",
    "bins = 20\n",
    "\n",
    "print('Histogram of Gauss distributed random numbers:')\n",
    "hist1 = Histogram()\n",
    "sample1 = [random.gauss(0,1) for i in range(N)]\n",
    "hist1.eat_data(sample1)\n",
    "hist1.draw_histogram(bins)\n",
    "\n",
    "print('Histogram of uniformly distributed random numbers:')\n",
    "hist2 = Histogram()\n",
    "sample2 = [random.uniform(0,1) for i in range(N)]\n",
    "hist2.eat_data(sample2)\n",
    "hist2.draw_histogram(bins)"
   ]
  },
  {
   "cell_type": "code",
   "execution_count": 37,
   "metadata": {
    "collapsed": true
   },
   "outputs": [],
   "source": []
  },
  {
   "cell_type": "code",
   "execution_count": null,
   "metadata": {
    "collapsed": true
   },
   "outputs": [],
   "source": []
  }
 ],
 "metadata": {
  "kernelspec": {
   "display_name": "Python 3",
   "language": "python",
   "name": "python3"
  },
  "language_info": {
   "codemirror_mode": {
    "name": "ipython",
    "version": 3
   },
   "file_extension": ".py",
   "mimetype": "text/x-python",
   "name": "python",
   "nbconvert_exporter": "python",
   "pygments_lexer": "ipython3",
   "version": "3.5.2+"
  }
 },
 "nbformat": 4,
 "nbformat_minor": 0
}
