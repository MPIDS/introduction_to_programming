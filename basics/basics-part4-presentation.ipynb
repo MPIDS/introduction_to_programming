{
 "cells": [
  {
   "cell_type": "markdown",
   "metadata": {
    "slideshow": {
     "slide_type": "slide"
    }
   },
   "source": [
    "# Object-oriented programming in Python"
   ]
  },
  {
   "cell_type": "markdown",
   "metadata": {
    "slideshow": {
     "slide_type": "slide"
    }
   },
   "source": [
    "## 0. Motivation for object-oriented approach"
   ]
  },
  {
   "cell_type": "markdown",
   "metadata": {
    "slideshow": {
     "slide_type": "slide"
    }
   },
   "source": [
    "### 0.1 Combining data and functions"
   ]
  },
  {
   "cell_type": "code",
   "execution_count": 79,
   "metadata": {
    "collapsed": false,
    "slideshow": {
     "slide_type": "slide"
    }
   },
   "outputs": [],
   "source": [
    "student1_name = 'Bob'\n",
    "student2_name = 'Sarah'\n",
    "\n",
    "student1_age = 25\n",
    "student2_age = 26"
   ]
  },
  {
   "cell_type": "code",
   "execution_count": 80,
   "metadata": {
    "collapsed": false,
    "slideshow": {
     "slide_type": "slide"
    }
   },
   "outputs": [],
   "source": [
    "def printStudent(name,age):\n",
    "    print('%s is %d years old' % (name, age))"
   ]
  },
  {
   "cell_type": "code",
   "execution_count": 81,
   "metadata": {
    "collapsed": false,
    "slideshow": {
     "slide_type": "slide"
    }
   },
   "outputs": [
    {
     "name": "stdout",
     "output_type": "stream",
     "text": [
      "Bob is 25 years old\n",
      "Sarah is 26 years old\n"
     ]
    }
   ],
   "source": [
    "printStudent(student1_name, student1_age)\n",
    "printStudent(student2_name, student2_age)"
   ]
  },
  {
   "cell_type": "markdown",
   "metadata": {
    "slideshow": {
     "slide_type": "slide"
    }
   },
   "source": [
    "Adding more students becomes more and more cumbersome. One way out: using arrays:"
   ]
  },
  {
   "cell_type": "code",
   "execution_count": 82,
   "metadata": {
    "collapsed": false,
    "slideshow": {
     "slide_type": "slide"
    }
   },
   "outputs": [],
   "source": [
    "name = ['Bob', 'Sarah', 'Joe']\n",
    "age  = [25, 26, 27]"
   ]
  },
  {
   "cell_type": "code",
   "execution_count": 83,
   "metadata": {
    "collapsed": false
   },
   "outputs": [],
   "source": [
    "def printAllStudents():\n",
    "    for i in range(len(name)):\n",
    "        printStudent(name[i], age[i])"
   ]
  },
  {
   "cell_type": "code",
   "execution_count": 84,
   "metadata": {
    "collapsed": false
   },
   "outputs": [
    {
     "name": "stdout",
     "output_type": "stream",
     "text": [
      "Bob is 25 years old\n",
      "Sarah is 26 years old\n",
      "Joe is 27 years old\n"
     ]
    }
   ],
   "source": [
    "printAllStudents()"
   ]
  },
  {
   "cell_type": "markdown",
   "metadata": {},
   "source": [
    "Still a bit annoying: adding more attributes to a student requires a change of printStudent and printAllStudents"
   ]
  },
  {
   "cell_type": "code",
   "execution_count": 85,
   "metadata": {
    "collapsed": false
   },
   "outputs": [],
   "source": [
    "program = ['Physics', 'Politics', 'Sociology']"
   ]
  },
  {
   "cell_type": "code",
   "execution_count": 86,
   "metadata": {
    "collapsed": false
   },
   "outputs": [],
   "source": [
    "def printStudent2(name, age, program):\n",
    "    print('%s is %u years old' % (name, age, program))\n",
    "\n",
    "def printAllStudents2():\n",
    "    for i in range(len(name)):\n",
    "        printStudent(name[i], age[i], program[i])"
   ]
  },
  {
   "cell_type": "markdown",
   "metadata": {},
   "source": [
    "What we need is a way to combine data and functions -> Classes"
   ]
  },
  {
   "cell_type": "markdown",
   "metadata": {},
   "source": [
    "**Another example** <p>\n",
    "Python already provides certain types, like int,float,list,dict,... But some others, which also seem fundamental, are missing. For example, there is no vector type. (Of course, one can abuse a list, but adding two lists is not the same as a vector addition.) Is there a possibility to create your own type which behaves in a definable way?"
   ]
  },
  {
   "cell_type": "markdown",
   "metadata": {},
   "source": [
    "### 0.2 Privacy"
   ]
  },
  {
   "cell_type": "code",
   "execution_count": 87,
   "metadata": {
    "collapsed": false
   },
   "outputs": [],
   "source": [
    "grade = [1, 2, 6]"
   ]
  },
  {
   "cell_type": "code",
   "execution_count": 88,
   "metadata": {
    "collapsed": false
   },
   "outputs": [],
   "source": [
    "def iDontLikeMyGrade(studentID):\n",
    "    grade[studentID] = 1"
   ]
  },
  {
   "cell_type": "code",
   "execution_count": 89,
   "metadata": {
    "collapsed": false
   },
   "outputs": [
    {
     "name": "stdout",
     "output_type": "stream",
     "text": [
      "[1, 2, 1]\n"
     ]
    }
   ],
   "source": [
    "iDontLikeMyGrade(2)\n",
    "print(grade)"
   ]
  },
  {
   "cell_type": "markdown",
   "metadata": {},
   "source": [
    "Is there a way to prevent this?"
   ]
  },
  {
   "cell_type": "markdown",
   "metadata": {},
   "source": [
    "## 1. Classes"
   ]
  },
  {
   "cell_type": "markdown",
   "metadata": {},
   "source": [
    "Blueprint for a student"
   ]
  },
  {
   "cell_type": "code",
   "execution_count": 90,
   "metadata": {
    "collapsed": false
   },
   "outputs": [],
   "source": [
    "class Student:\n",
    "    \"\"\"This is the blueprint for a student\"\"\" # docstring\n",
    "    \n",
    "    # NOTE: 'self' has to be stated explicitely\n",
    "    # 'self' is like 'this' in C++/Java\n",
    "    def hi(self):\n",
    "        print(\"hi\")\n",
    "\n",
    "    # a method\n",
    "    # NOTE again: the first argument of a method must be 'self'\n",
    "    # In principle you could call it differently but 'self' is convention\n",
    "    def get_age(self):\n",
    "        return self.age\n",
    "\n",
    "    def set_age(self, newage):\n",
    "        self.age = newage\n",
    "\n",
    "    # constructor\n",
    "    def __init__(self,n,a):\n",
    "        \n",
    "        # attributes are defined simply by using them\n",
    "        self.name = n\n",
    "        self.age = a\n",
    "\n",
    "        print('Hi, I am student %s. Thanks for creating me.' % self.name)"
   ]
  },
  {
   "cell_type": "markdown",
   "metadata": {},
   "source": [
    "Now that we have a blueprint for a student, let's instantiate one:"
   ]
  },
  {
   "cell_type": "code",
   "execution_count": 91,
   "metadata": {
    "collapsed": false
   },
   "outputs": [
    {
     "name": "stdout",
     "output_type": "stream",
     "text": [
      "Hi, I am student Bob. Thanks for creating me.\n"
     ]
    }
   ],
   "source": [
    "bob = Student('Bob',25)"
   ]
  },
  {
   "cell_type": "markdown",
   "metadata": {},
   "source": [
    "Accessing an attribute:"
   ]
  },
  {
   "cell_type": "code",
   "execution_count": 92,
   "metadata": {
    "collapsed": false
   },
   "outputs": [
    {
     "name": "stdout",
     "output_type": "stream",
     "text": [
      "Age of Bob: 25\n"
     ]
    }
   ],
   "source": [
    "print('Age of Bob:', bob.age)"
   ]
  },
  {
   "cell_type": "markdown",
   "metadata": {},
   "source": [
    "Calling a method:"
   ]
  },
  {
   "cell_type": "code",
   "execution_count": 93,
   "metadata": {
    "collapsed": false
   },
   "outputs": [
    {
     "name": "stdout",
     "output_type": "stream",
     "text": [
      "It's Bob's birthday today\n"
     ]
    }
   ],
   "source": [
    "print(\"It's Bob's birthday today\")\n",
    "bob.set_age(26)"
   ]
  },
  {
   "cell_type": "markdown",
   "metadata": {},
   "source": [
    "## 2. Private attributes and methods - encapsulation"
   ]
  },
  {
   "cell_type": "code",
   "execution_count": 94,
   "metadata": {
    "collapsed": false
   },
   "outputs": [],
   "source": [
    "from datetime import datetime"
   ]
  },
  {
   "cell_type": "code",
   "execution_count": 95,
   "metadata": {
    "collapsed": false
   },
   "outputs": [],
   "source": [
    "class Student:\n",
    "    \"\"\"This is the blueprint for a student\"\"\"\n",
    "    \n",
    "    def __init__(self,n,a): \n",
    "        # The name of the student should not be changed after instanciation\n",
    "        # therefore make it 'private' by adding '__' to name\n",
    "        self.__name = n\n",
    "        # Likewise for age\n",
    "        self.__birthyear = datetime.now().year - a\n",
    "\n",
    "        print('Hi, I am student %s. Thanks for creating me.' % self.__name)\n",
    "    \n",
    "        # NOTE: Real privacy doesn't exist in python\n",
    "        # if 'bob' is an instance of Student '__name' can be accessed from\n",
    "        # outside writing\n",
    "        # >>> bob._Student__name \n",
    " \n",
    "    # a method\n",
    "    # NOTE again: the first argument of a method must be 'self'\n",
    "    # In principle you could call it diffenetly but 'self' is convention\n",
    "    def get_age(self):\n",
    "        return datetime.now().year - self.__birthyear\n",
    "\n",
    "    # a special method, intended for 'pretty print' of the object\n",
    "    # cf below for more special methods\n",
    "    def __str__(self):\n",
    "        return 'I am student %s and am %u years old.' % (self.__name, self.get_age())"
   ]
  },
  {
   "cell_type": "markdown",
   "metadata": {},
   "source": [
    "Now we execute the same code as above:\n"
   ]
  },
  {
   "cell_type": "code",
   "execution_count": 96,
   "metadata": {
    "collapsed": false
   },
   "outputs": [
    {
     "ename": "AttributeError",
     "evalue": "'Student' object has no attribute '__name'",
     "output_type": "error",
     "traceback": [
      "\u001b[0;31m---------------------------------------------------------------------------\u001b[0m\n\u001b[0;31mAttributeError\u001b[0m                            Traceback (most recent call last)",
      "\u001b[0;32m<ipython-input-96-2672cdcaeaab>\u001b[0m in \u001b[0;36m<module>\u001b[0;34m()\u001b[0m\n\u001b[1;32m      1\u001b[0m \u001b[0mbob\u001b[0m \u001b[0;34m=\u001b[0m \u001b[0mStudent\u001b[0m\u001b[0;34m(\u001b[0m\u001b[0;34m'Bob'\u001b[0m\u001b[0;34m,\u001b[0m \u001b[0;36m25\u001b[0m\u001b[0;34m)\u001b[0m\u001b[0;34m\u001b[0m\u001b[0m\n\u001b[0;32m----> 2\u001b[0;31m \u001b[0mbob\u001b[0m\u001b[0;34m.\u001b[0m\u001b[0m__name\u001b[0m\u001b[0;34m\u001b[0m\u001b[0m\n\u001b[0m",
      "\u001b[0;31mAttributeError\u001b[0m: 'Student' object has no attribute '__name'"
     ]
    },
    {
     "name": "stdout",
     "output_type": "stream",
     "text": [
      "Hi, I am student Bob. Thanks for creating me.\n"
     ]
    }
   ],
   "source": [
    "bob = Student('Bob', 25)\n",
    "bob.__name"
   ]
  },
  {
   "cell_type": "markdown",
   "metadata": {},
   "source": [
    "N.B.: the following won't work any more because we changed the implementation"
   ]
  },
  {
   "cell_type": "code",
   "execution_count": 97,
   "metadata": {
    "collapsed": false
   },
   "outputs": [
    {
     "ename": "AttributeError",
     "evalue": "'Student' object has no attribute 'age'",
     "output_type": "error",
     "traceback": [
      "\u001b[0;31m---------------------------------------------------------------------------\u001b[0m\n\u001b[0;31mAttributeError\u001b[0m                            Traceback (most recent call last)",
      "\u001b[0;32m<ipython-input-97-1f27fb2ba10b>\u001b[0m in \u001b[0;36m<module>\u001b[0;34m()\u001b[0m\n\u001b[0;32m----> 1\u001b[0;31m \u001b[0mprint\u001b[0m\u001b[0;34m(\u001b[0m\u001b[0;34m'Age of Bob:'\u001b[0m\u001b[0;34m,\u001b[0m \u001b[0mbob\u001b[0m\u001b[0;34m.\u001b[0m\u001b[0mage\u001b[0m\u001b[0;34m)\u001b[0m\u001b[0;34m\u001b[0m\u001b[0m\n\u001b[0m",
      "\u001b[0;31mAttributeError\u001b[0m: 'Student' object has no attribute 'age'"
     ]
    }
   ],
   "source": [
    "print('Age of Bob:', bob.age)"
   ]
  },
  {
   "cell_type": "markdown",
   "metadata": {},
   "source": [
    "Hence: it's generally a good idea to hide (make private) the internal \n",
    "details of the implementation and provide access to the Class's functionality\n",
    "only through a defined interface"
   ]
  },
  {
   "cell_type": "markdown",
   "metadata": {},
   "source": [
    "This still works:"
   ]
  },
  {
   "cell_type": "code",
   "execution_count": 98,
   "metadata": {
    "collapsed": false
   },
   "outputs": [
    {
     "name": "stdout",
     "output_type": "stream",
     "text": [
      "Age of Bob: 25\n"
     ]
    }
   ],
   "source": [
    "print('Age of Bob:', bob.get_age())"
   ]
  },
  {
   "cell_type": "markdown",
   "metadata": {},
   "source": [
    "By the way, accessing special method \\__str__"
   ]
  },
  {
   "cell_type": "code",
   "execution_count": 99,
   "metadata": {
    "collapsed": false
   },
   "outputs": [
    {
     "name": "stdout",
     "output_type": "stream",
     "text": [
      "I am student Bob and am 25 years old.\n",
      "I am student Bob and am 25 years old.\n",
      "I am student Bob and am 25 years old.\n"
     ]
    }
   ],
   "source": [
    "print(bob)\n",
    "print(str(bob))\n",
    "print(bob.__str__())"
   ]
  },
  {
   "cell_type": "markdown",
   "metadata": {},
   "source": [
    "Note also: No need to free memory, Python has automatic garbage collection and will free an instance once it's not referenced any more.\n",
    "\n",
    "Hence: usually no need for destructor"
   ]
  }
 ],
 "metadata": {
  "kernelspec": {
   "display_name": "Python 3",
   "language": "python",
   "name": "python3"
  },
  "language_info": {
   "codemirror_mode": {
    "name": "ipython",
    "version": 3
   },
   "file_extension": ".py",
   "mimetype": "text/x-python",
   "name": "python",
   "nbconvert_exporter": "python",
   "pygments_lexer": "ipython3",
   "version": "3.5.2"
  }
 },
 "nbformat": 4,
 "nbformat_minor": 0
}
