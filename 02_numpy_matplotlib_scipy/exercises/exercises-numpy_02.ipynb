{
 "cells": [
  {
   "cell_type": "markdown",
   "metadata": {},
   "source": [
    "# Time series: the weather in Göttingen from 1947 to 2015\n",
    "\n",
    "*** Data: ***\n",
    "\n",
    "The file ./data/produkt_klima_Tageswerte_19470101_20151231_01691.txt contains the daily measurements of the Göttingen weather station from 1947 untill 2015. It is just a plain text file, open it in a text editor to see how the data is organized.\n",
    "This dataset along with many others can be downloaded from the FTP-server of the DWD (German Meteorological Office):\n",
    "ftp://ftp-cdc.dwd.de/pub/CDC/\n",
    "\n",
    "*** Preprocessing: ***\n",
    "* Load the data with np.loadtxt. Hint: The first line is the header and the last column contains text. Use the parameters of np.loadtxt to exclude these. \n",
    "* For convenience, you can extract some interesting columns with slicing, e.g. MESS_DATUM (date), LUFTTEMPERATUR (air temperature), REL_FEUCHTE (humidity), NIEDERSCHLAGSHOEHE (precipitation), SONNENSCHEINDAUER (duration of sunshine), and store them in a 1d-array.\n",
    "* Values of -999 indicate that there is no data available. This is annoying for many applications, e.g. if you compute the average or if you plot the data. Use a boolean index array to replace all -999 with the value np.nan (\"nan\" means not-a-number).\n",
    "\n",
    "*** Analysis: ***\n",
    "\n",
    "Here are some ideas:\n",
    "* Plot some subsets of the data, e.g. the temperature of the last three years. Add some horizontal lines for the mean, min, and max values.\n",
    "* Plot a histogram and a cumulative distribution of the temperature data. Mark the positions of the median, the mean, the upper and lower 20%-percentiles, ...\n",
    "* Write a function which takes two arguments, a time series and a date, and returns the value of the time series on that specific day. \n",
    "* Challanging: Reshape the temperature time series into a two dimensional array such that its shape is 68 years x 365 days (before you do that you can use a boolean index array to remove the February 29th every four years). Then you can calculate the mean along one or the other axis to get a temperature profile of a year (averaged over all years) or the long-term trend of the temperature over 68 years, respectively. Both look even nicer if you do a moving average."
   ]
  },
  {
   "cell_type": "code",
   "execution_count": null,
   "metadata": {
    "collapsed": false
   },
   "outputs": [],
   "source": []
  },
  {
   "cell_type": "code",
   "execution_count": null,
   "metadata": {
    "collapsed": true
   },
   "outputs": [],
   "source": []
  },
  {
   "cell_type": "code",
   "execution_count": null,
   "metadata": {
    "collapsed": true
   },
   "outputs": [],
   "source": []
  },
  {
   "cell_type": "code",
   "execution_count": null,
   "metadata": {
    "collapsed": true
   },
   "outputs": [],
   "source": []
  },
  {
   "cell_type": "code",
   "execution_count": null,
   "metadata": {
    "collapsed": true
   },
   "outputs": [],
   "source": []
  },
  {
   "cell_type": "markdown",
   "metadata": {},
   "source": [
    " # Spatial data: The temperature field of germany \n",
    "\n",
    "The file ./data/TAMM_17_2015_01.asc (Source: ftp://ftp-cdc.dwd.de/pub/CDC/grids_germany/annual/air_temperature_mean/) contains the annual mean temperature of 2015 in germany on a 1km x 1km grid.\n",
    "\n"
   ]
  },
  {
   "cell_type": "markdown",
   "metadata": {},
   "source": [
    "*** Preprocessing ***\n",
    "\n",
    "* Use np.loadtxt to load the data. Hint: np.loadtxt has a parameter to skip the metadata in the first few lines. \n",
    "* The values -999 indicate that there is no data for this point, which is a problem e.g. when computing the average or the minimum value. Replace all -999 values by np.nan (nan: not-a-number). Hint: Either use np.where or flatten the array, use a boolean index array and then reshape it to the original shape.\n",
    "* The temperature values in this dataset are given in units of 1/10 °C to avoid commas. Devide the data by 10 to get the real temperature. \n",
    "\n",
    "*** Visualization ***\n",
    "\n",
    "* Use matplotlibs imshow-function to visualize the data. Try slicing the array to zoom in. \n",
    "* Mark the coldest place in germany with a blue dot and the hottest place with a red dot. Hint: np.nanargmin and np.nanargmax.\n",
    "* Make a plot with two colors, one for all areas which are below the mean temperature and one for all areas which are above the mean temperature. Hint: Matplotlib can plot boolean arrays.\n",
    "* Plot a temperature profile from north to south averaged over east to west. Hint: Use np.nanmean and the axis-parameter."
   ]
  },
  {
   "cell_type": "code",
   "execution_count": null,
   "metadata": {
    "collapsed": false
   },
   "outputs": [],
   "source": []
  },
  {
   "cell_type": "code",
   "execution_count": null,
   "metadata": {
    "collapsed": true
   },
   "outputs": [],
   "source": []
  },
  {
   "cell_type": "code",
   "execution_count": null,
   "metadata": {
    "collapsed": true
   },
   "outputs": [],
   "source": []
  },
  {
   "cell_type": "code",
   "execution_count": null,
   "metadata": {
    "collapsed": true
   },
   "outputs": [],
   "source": []
  },
  {
   "cell_type": "code",
   "execution_count": null,
   "metadata": {
    "collapsed": true
   },
   "outputs": [],
   "source": []
  }
 ],
 "metadata": {
  "kernelspec": {
   "display_name": "Python 3",
   "language": "python",
   "name": "python3"
  },
  "language_info": {
   "codemirror_mode": {
    "name": "ipython",
    "version": 3
   },
   "file_extension": ".py",
   "mimetype": "text/x-python",
   "name": "python",
   "nbconvert_exporter": "python",
   "pygments_lexer": "ipython3",
   "version": "3.5.2+"
  }
 },
 "nbformat": 4,
 "nbformat_minor": 0
}
