{
 "cells": [
  {
   "cell_type": "markdown",
   "metadata": {
    "slideshow": {
     "slide_type": "slide"
    }
   },
   "source": [
    "# Numpy & Scipy: Part II"
   ]
  },
  {
   "cell_type": "code",
   "execution_count": null,
   "metadata": {
    "collapsed": false
   },
   "outputs": [],
   "source": [
    "%matplotlib inline\n",
    "import numpy as np\n",
    "import pylab as pl"
   ]
  },
  {
   "cell_type": "markdown",
   "metadata": {},
   "source": [
    "## Summary Part I\n",
    "\n",
    "Numpy provides an array-object for doing efficient numerics and analysis of large datasets.\n",
    "\n",
    "Some ways to create arrays:"
   ]
  },
  {
   "cell_type": "code",
   "execution_count": null,
   "metadata": {
    "collapsed": false
   },
   "outputs": [],
   "source": [
    "a1 = np.array([0,1,1,2,3,5,8,13])\n",
    "a2 = np.arange(1000)\n",
    "a3 = np.linspace(0,1,1000)\n",
    "a4 = np.random.random(1000)"
   ]
  },
  {
   "cell_type": "markdown",
   "metadata": {},
   "source": [
    "Elementwise operations:"
   ]
  },
  {
   "cell_type": "code",
   "execution_count": null,
   "metadata": {
    "collapsed": false
   },
   "outputs": [],
   "source": [
    "b1 = a1**2 + 3*a1 + 13\n",
    "b2 = np.sin(a2)\n",
    "b3 = np.exp(a3)\n",
    "b4 = np.sqrt(a4)"
   ]
  },
  {
   "cell_type": "markdown",
   "metadata": {},
   "source": [
    "Reductions:"
   ]
  },
  {
   "cell_type": "code",
   "execution_count": null,
   "metadata": {
    "collapsed": false
   },
   "outputs": [],
   "source": [
    "print( np.sum(b1) )\n",
    "print( np.min(a2) )\n",
    "print( np.max(a2) )\n",
    "print( np.mean(a4) )\n",
    "print( np.std(a4) )"
   ]
  },
  {
   "cell_type": "markdown",
   "metadata": {},
   "source": [
    "Indexing & Slicing:"
   ]
  },
  {
   "cell_type": "code",
   "execution_count": null,
   "metadata": {
    "collapsed": false
   },
   "outputs": [],
   "source": [
    "print( b1[4] )\n",
    "print( b2[:5] )\n",
    "print( b3[-20::4] )"
   ]
  },
  {
   "cell_type": "markdown",
   "metadata": {},
   "source": [
    "Visualize with Matplotlib:"
   ]
  },
  {
   "cell_type": "code",
   "execution_count": null,
   "metadata": {
    "collapsed": false
   },
   "outputs": [],
   "source": [
    "a = np.linspace(0,100,40000)\n",
    "b = np.sin(a) + np.sin(1.1*a)\n",
    "pl.plot(a, b)"
   ]
  },
  {
   "cell_type": "markdown",
   "metadata": {},
   "source": [
    "# Creating arrays from other arrays\n",
    "\n",
    "Unlike lists, an array can not change its size. But you can create arrays from other arrays."
   ]
  },
  {
   "cell_type": "code",
   "execution_count": null,
   "metadata": {
    "collapsed": false
   },
   "outputs": [],
   "source": [
    "a = np.zeros(5)\n",
    "b = np.arange(5)"
   ]
  },
  {
   "cell_type": "code",
   "execution_count": null,
   "metadata": {
    "collapsed": false
   },
   "outputs": [],
   "source": [
    "c1 = np.concatenate((a,b))\n",
    "print(c1)"
   ]
  },
  {
   "cell_type": "code",
   "execution_count": null,
   "metadata": {
    "collapsed": false
   },
   "outputs": [],
   "source": [
    "c2 = np.vstack((a,b,a,b))\n",
    "print(c2)"
   ]
  },
  {
   "cell_type": "markdown",
   "metadata": {},
   "source": [
    "# Datatypes\n",
    "\n",
    "* Unlike lists, all elements of an array have the same datatype. \n",
    "* You can specify the datatype explicitly or numpy will automatically choose the smallest datatype which is necessary to store the input. "
   ]
  },
  {
   "cell_type": "code",
   "execution_count": null,
   "metadata": {
    "collapsed": false
   },
   "outputs": [],
   "source": [
    "a = np.array([1,2,3])                   #automatic choice\n",
    "b = np.array([1,2,3.0])                 #automatic choice\n",
    "c = np.array([1,2,3], dtype=np.float64) #manual choice\n",
    "\n",
    "print(a)\n",
    "print(b)\n",
    "print(c)"
   ]
  },
  {
   "cell_type": "code",
   "execution_count": null,
   "metadata": {
    "collapsed": false
   },
   "outputs": [],
   "source": [
    "print(a.dtype)\n",
    "print(b.dtype)\n",
    "print(c.dtype)"
   ]
  },
  {
   "cell_type": "markdown",
   "metadata": {},
   "source": [
    "Keep in mind which datatype an array has when assigning values!"
   ]
  },
  {
   "cell_type": "code",
   "execution_count": null,
   "metadata": {
    "collapsed": false
   },
   "outputs": [],
   "source": [
    "a[0] = 2.1\n",
    "b[0] = 2.1\n",
    "\n",
    "print( a )\n",
    "print( b )"
   ]
  },
  {
   "cell_type": "markdown",
   "metadata": {},
   "source": [
    "Question: What is the result of the following code?"
   ]
  },
  {
   "cell_type": "code",
   "execution_count": null,
   "metadata": {
    "collapsed": false
   },
   "outputs": [],
   "source": [
    "print( np.concatenate([a,b]).dtype )"
   ]
  },
  {
   "cell_type": "markdown",
   "metadata": {},
   "source": [
    "Exercise: Use np.arange to create an array with floats."
   ]
  },
  {
   "cell_type": "code",
   "execution_count": null,
   "metadata": {
    "collapsed": false
   },
   "outputs": [],
   "source": []
  },
  {
   "cell_type": "markdown",
   "metadata": {},
   "source": [
    "# Broadcasting\n",
    "\n",
    "If you assign values or add arrays with different shapes, numpy will do broadcasting, meaning that the elements are repeated untill the shapes match."
   ]
  },
  {
   "cell_type": "markdown",
   "metadata": {},
   "source": [
    "Example: Assigning values to slices"
   ]
  },
  {
   "cell_type": "code",
   "execution_count": null,
   "metadata": {
    "collapsed": false
   },
   "outputs": [],
   "source": [
    "a = np.arange(10)\n",
    "a[:3] = 3\n",
    "print(a)"
   ]
  },
  {
   "cell_type": "markdown",
   "metadata": {},
   "source": [
    "Example: Adding $[1,2,3]$ and $10$ translates to $[1,2,3]$ + $[10,10,10]$"
   ]
  },
  {
   "cell_type": "code",
   "execution_count": null,
   "metadata": {
    "collapsed": false
   },
   "outputs": [],
   "source": [
    "print( np.array([1,2,3]) + 10 )"
   ]
  },
  {
   "cell_type": "markdown",
   "metadata": {},
   "source": [
    "Example: Adding $[1,2,3]$ and $\\begin{pmatrix} 1\\\\2\\\\3 \\end{pmatrix}$ translates to $\\begin{pmatrix} 1 & 2 & 3\\\\1 & 2 & 3\\\\1 & 2 & 3 \\end{pmatrix}$ + $\\begin{pmatrix} 1 & 1 & 1\\\\2 & 2 & 2\\\\3 & 3 & 3 \\end{pmatrix}$ "
   ]
  },
  {
   "cell_type": "code",
   "execution_count": null,
   "metadata": {
    "collapsed": false
   },
   "outputs": [],
   "source": [
    "np.array([1,2,3]) + np.array([[1],[2],[3]])"
   ]
  },
  {
   "cell_type": "markdown",
   "metadata": {},
   "source": [
    "Question: What is the result of the following code?"
   ]
  },
  {
   "cell_type": "code",
   "execution_count": null,
   "metadata": {
    "collapsed": false
   },
   "outputs": [],
   "source": [
    "a = np.zeros((5,5))\n",
    "a[1:4,1:4] = 10\n",
    "print(a)"
   ]
  },
  {
   "cell_type": "markdown",
   "metadata": {},
   "source": [
    "Exercise: Create this array: $\\begin{pmatrix} 0 & 1 & 0 \\\\ 1 & 1 & 1 \\\\ 0 & 1 & 0 \\end{pmatrix}$"
   ]
  },
  {
   "cell_type": "code",
   "execution_count": null,
   "metadata": {
    "collapsed": false
   },
   "outputs": [],
   "source": []
  },
  {
   "cell_type": "markdown",
   "metadata": {},
   "source": [
    "# Logics with boolean arrays\n",
    "\n",
    "* 'bool' is the datatype which stores True and False values.\n",
    "* Comparison operators like <, > and == can be used to compare the values of arrays. \n",
    "* They will be applied elementwise and the result is a new array with the datatype bool."
   ]
  },
  {
   "cell_type": "code",
   "execution_count": null,
   "metadata": {
    "collapsed": false
   },
   "outputs": [],
   "source": [
    "a = np.random.random(10)\n",
    "print( a > 0.5 )"
   ]
  },
  {
   "cell_type": "code",
   "execution_count": null,
   "metadata": {
    "collapsed": false
   },
   "outputs": [],
   "source": [
    "b = np.arange(10)\n",
    "print( b==3 )"
   ]
  },
  {
   "cell_type": "markdown",
   "metadata": {},
   "source": [
    "Logical operations with two boolean arrays:"
   ]
  },
  {
   "cell_type": "code",
   "execution_count": null,
   "metadata": {
    "collapsed": false
   },
   "outputs": [],
   "source": [
    "print( np.logical_and(a>0.5,b==3) ) "
   ]
  },
  {
   "cell_type": "code",
   "execution_count": null,
   "metadata": {
    "collapsed": false
   },
   "outputs": [],
   "source": [
    "print( np.logical_or(a>0.5,b==3) )"
   ]
  },
  {
   "cell_type": "markdown",
   "metadata": {},
   "source": [
    "Reductions:"
   ]
  },
  {
   "cell_type": "code",
   "execution_count": null,
   "metadata": {
    "collapsed": false
   },
   "outputs": [],
   "source": [
    "print( np.any( a>0.5 ) )"
   ]
  },
  {
   "cell_type": "code",
   "execution_count": null,
   "metadata": {
    "collapsed": false
   },
   "outputs": [],
   "source": [
    "print( np.all( a>0.5 ) )"
   ]
  },
  {
   "cell_type": "code",
   "execution_count": null,
   "metadata": {
    "collapsed": false
   },
   "outputs": [],
   "source": [
    "print( np.sum( a>0.5 ) )"
   ]
  },
  {
   "cell_type": "markdown",
   "metadata": {},
   "source": [
    "Question: What is the result of the following code?"
   ]
  },
  {
   "cell_type": "code",
   "execution_count": null,
   "metadata": {
    "collapsed": false
   },
   "outputs": [],
   "source": [
    "a = np.arange(10)\n",
    "print( np.sum( np.logical_and(a < 2, a > 7) ) )"
   ]
  },
  {
   "cell_type": "markdown",
   "metadata": {
    "collapsed": false
   },
   "source": [
    "Exercise: How many elements of a are smaller than 2 or greater than 7?"
   ]
  },
  {
   "cell_type": "code",
   "execution_count": null,
   "metadata": {
    "collapsed": true
   },
   "outputs": [],
   "source": []
  },
  {
   "cell_type": "markdown",
   "metadata": {
    "slideshow": {
     "slide_type": "slide"
    }
   },
   "source": [
    "# Fancy indexing"
   ]
  },
  {
   "cell_type": "markdown",
   "metadata": {
    "slideshow": {
     "slide_type": "-"
    }
   },
   "source": [
    "Before we start, some examples of \"simple indexing\" introduced in part I."
   ]
  },
  {
   "cell_type": "code",
   "execution_count": null,
   "metadata": {
    "collapsed": false,
    "slideshow": {
     "slide_type": "-"
    }
   },
   "outputs": [],
   "source": [
    "a = np.random.randint(0,10,10)\n",
    "print(a)"
   ]
  },
  {
   "cell_type": "code",
   "execution_count": null,
   "metadata": {
    "collapsed": false
   },
   "outputs": [],
   "source": [
    "print(a[0])\n",
    "print(a[-2])\n",
    "print(a[1:4])\n",
    "print(a[:4])\n",
    "print(a[1::2])"
   ]
  },
  {
   "cell_type": "markdown",
   "metadata": {},
   "source": [
    "In two or more dimensions, indices are seperated by a comma."
   ]
  },
  {
   "cell_type": "code",
   "execution_count": null,
   "metadata": {
    "collapsed": false
   },
   "outputs": [],
   "source": [
    "M = np.random.randint(0,10,(3,3))\n",
    "print(M)"
   ]
  },
  {
   "cell_type": "code",
   "execution_count": null,
   "metadata": {
    "collapsed": false
   },
   "outputs": [],
   "source": [
    "print(M[0,0])\n",
    "print(M[:,1])\n",
    "print(M[:2,::-1])"
   ]
  },
  {
   "cell_type": "markdown",
   "metadata": {
    "collapsed": false,
    "slideshow": {
     "slide_type": "-"
    }
   },
   "source": [
    "*** Integer index arrays ***"
   ]
  },
  {
   "cell_type": "code",
   "execution_count": null,
   "metadata": {
    "collapsed": false,
    "slideshow": {
     "slide_type": "-"
    }
   },
   "outputs": [],
   "source": [
    "a = np.random.randint(0,10,10)\n",
    "index_array = np.array([0,1,2,3,2,1,0])\n",
    "a2 = a[index_array]"
   ]
  },
  {
   "cell_type": "code",
   "execution_count": null,
   "metadata": {
    "collapsed": false
   },
   "outputs": [],
   "source": [
    "print(\"array:\")\n",
    "print(a)\n",
    "\n",
    "print(\"index array:\")\n",
    "print(index_array)\n",
    "\n",
    "print(\"array[index array]:\")\n",
    "print(a[index_array])"
   ]
  },
  {
   "cell_type": "markdown",
   "metadata": {},
   "source": [
    "*** Boolean index arrays ***"
   ]
  },
  {
   "cell_type": "code",
   "execution_count": null,
   "metadata": {
    "collapsed": false,
    "slideshow": {
     "slide_type": "-"
    }
   },
   "outputs": [],
   "source": [
    "a = np.random.randint(0,10,10)\n",
    "a2 = a[a > 5]"
   ]
  },
  {
   "cell_type": "code",
   "execution_count": null,
   "metadata": {
    "collapsed": false
   },
   "outputs": [],
   "source": [
    "print(\"array:\")\n",
    "print(a)\n",
    "\n",
    "print(\"array[array > 5]\")\n",
    "print(a2)"
   ]
  },
  {
   "cell_type": "markdown",
   "metadata": {},
   "source": [
    "*** Exercise***\n",
    "\n",
    "The following two arrays are sorted by the names of the city. Use np.argsort to sort both by the population."
   ]
  },
  {
   "cell_type": "code",
   "execution_count": null,
   "metadata": {
    "collapsed": true
   },
   "outputs": [],
   "source": [
    "country = np.array(['Bangladesh', 'Brazil', 'China', 'India', 'Indonesia', 'Mexico', 'Nigeria', 'Pakistan', 'Russia', 'United States'])\n",
    "population = np.array([ 209567920,  162910864, 1382323332, 1326801576,  260581100, 128632004,  186987563,  192826502,  143439832,  324118787])"
   ]
  },
  {
   "cell_type": "code",
   "execution_count": null,
   "metadata": {
    "collapsed": true
   },
   "outputs": [],
   "source": []
  },
  {
   "cell_type": "markdown",
   "metadata": {
    "slideshow": {
     "slide_type": "slide"
    }
   },
   "source": [
    "# Views on numpy arrrays"
   ]
  },
  {
   "cell_type": "markdown",
   "metadata": {},
   "source": [
    "Numpy-arrays can store data, but they can also refer to data of another array. The second type of arrays is called a view, because it offers a different way to look at the same dataset.\n",
    "\n",
    "The reason for using views is that we don't want to copy large datasets if we just want to use a subset of this data or the same data in a reversed order."
   ]
  },
  {
   "cell_type": "code",
   "execution_count": null,
   "metadata": {
    "collapsed": false
   },
   "outputs": [],
   "source": [
    "import sys\n",
    "\n",
    "a = np.arange(0,1000000)    #an array with a million numbers \n",
    "b = np.arange(0,1000000,2)  #an array with half a million numbers\n",
    "c = a[::2]                  #a view\n",
    "\n",
    "print(\"a: {} bytes\".format(sys.getsizeof(a)))\n",
    "print(\"b: {} bytes\".format(sys.getsizeof(b)))\n",
    "print(\"c: {} bytes\".format(sys.getsizeof(c)))\n",
    "print( \"b==c: {}\".format(np.all(b==c)))"
   ]
  },
  {
   "cell_type": "markdown",
   "metadata": {},
   "source": [
    "Keep in mind whether an array has its own data or is just looking at the data of another array!"
   ]
  },
  {
   "cell_type": "code",
   "execution_count": null,
   "metadata": {
    "collapsed": false,
    "slideshow": {
     "slide_type": "-"
    }
   },
   "outputs": [],
   "source": [
    "a = np.arange(5)      #create an array\n",
    "b = a                 #create a second name for this array\n",
    "c = a[::-1]           #create a view on this array\n",
    "d = np.copy(a[::-1])  #create a second array with the same data as the first one"
   ]
  },
  {
   "cell_type": "code",
   "execution_count": null,
   "metadata": {
    "collapsed": false
   },
   "outputs": [],
   "source": [
    "print('a = ' + str(a))\n",
    "print('b = ' + str(b))\n",
    "print('c = ' + str(c))\n",
    "print('d = ' + str(d))"
   ]
  },
  {
   "cell_type": "code",
   "execution_count": null,
   "metadata": {
    "collapsed": false,
    "slideshow": {
     "slide_type": "fragment"
    }
   },
   "outputs": [],
   "source": [
    "a[0] = 23\n",
    "print('a = ' + str(a))\n",
    "print('b = ' + str(b))\n",
    "print('c = ' + str(c))\n",
    "print('d = ' + str(d))"
   ]
  },
  {
   "cell_type": "markdown",
   "metadata": {
    "slideshow": {
     "slide_type": "slide"
    }
   },
   "source": [
    "# SciPy\n",
    "\n",
    "Based on the numpy package scipy provides advanced methods for science and engineering:"
   ]
  },
  {
   "cell_type": "markdown",
   "metadata": {
    "slideshow": {
     "slide_type": "-"
    }
   },
   "source": [
    "* Constants (scipy.constants)\n",
    "* Fourier transforms (scipy.fftpack)\n",
    "* Integration and ODEs (scipy.integrate)\n",
    "* Interpolation (scipy.interpolate)\n",
    "* Linear algebra (scipy.linalg)\n",
    "* Orthogonal distance regression (scipy.odr)\n",
    "* Optimization and root finding (scipy.optimize)\n",
    "* Signal processing (scipy.signal)\n",
    "* Special functions (scipy.special)\n",
    "* Statistical functions (scipy.stats)\n",
    "* C/C++ integration (scipy.weave)\n",
    "And more …\n",
    "\n",
    "Check: http://docs.scipy.org/doc/ \n"
   ]
  },
  {
   "cell_type": "markdown",
   "metadata": {
    "slideshow": {
     "slide_type": "slide"
    }
   },
   "source": [
    "## Scipy example: scipy.optimize\n",
    "\n",
    "Assume we have two arrays xdata and ydata. "
   ]
  },
  {
   "cell_type": "code",
   "execution_count": null,
   "metadata": {
    "collapsed": false,
    "slideshow": {
     "slide_type": "skip"
    }
   },
   "outputs": [],
   "source": [
    "def func(x, a, b):\n",
    "    return a*np.log(x) + b\n",
    "xdata = np.arange(1,20,0.1)\n",
    "y = func(xdata, 1.5, 1.25)\n",
    "ydata = y + 0.3 * np.random.normal(size=len(xdata))\n",
    "pl.plot(xdata,ydata,'o')"
   ]
  },
  {
   "cell_type": "markdown",
   "metadata": {},
   "source": [
    "Fit the function $f(x) = a\\log{x}+b$ to the data."
   ]
  },
  {
   "cell_type": "code",
   "execution_count": null,
   "metadata": {
    "collapsed": false,
    "slideshow": {
     "slide_type": "-"
    }
   },
   "outputs": [],
   "source": [
    "from scipy.optimize import curve_fit\n",
    "\n",
    "def func(x, a, b):\n",
    "    return a*np.log(x) + b\n",
    "\n",
    "popt, pcov = curve_fit(func, xdata, ydata)\n",
    "a,b = popt\n",
    "print('Result: a = {}, b = {}'.format(a,b))\n",
    "\n",
    "pl.plot(xdata,ydata,'o')\n",
    "pl.plot(xdata,func(xdata,a,b),'r',lw=3)"
   ]
  },
  {
   "cell_type": "code",
   "execution_count": null,
   "metadata": {
    "collapsed": true
   },
   "outputs": [],
   "source": []
  }
 ],
 "metadata": {
  "kernelspec": {
   "display_name": "Python 3",
   "language": "python",
   "name": "python3"
  },
  "language_info": {
   "codemirror_mode": {
    "name": "ipython",
    "version": 3
   },
   "file_extension": ".py",
   "mimetype": "text/x-python",
   "name": "python",
   "nbconvert_exporter": "python",
   "pygments_lexer": "ipython3",
   "version": "3.5.2+"
  }
 },
 "nbformat": 4,
 "nbformat_minor": 0
}
