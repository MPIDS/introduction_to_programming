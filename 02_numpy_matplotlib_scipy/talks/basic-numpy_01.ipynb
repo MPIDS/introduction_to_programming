{
 "cells": [
  {
   "cell_type": "markdown",
   "metadata": {
    "slideshow": {
     "slide_type": "skip"
    }
   },
   "source": [
    "Run using ``ipython3 nbconvert --to slides --post serve basic-numpy_01.ipynb`` (Now using livereveal)"
   ]
  },
  {
   "cell_type": "code",
   "execution_count": 1,
   "metadata": {
    "collapsed": true,
    "slideshow": {
     "slide_type": "skip"
    }
   },
   "outputs": [],
   "source": [
    "%matplotlib nbagg\n",
    "\n",
    "# For easier python 2 compatibility:\n",
    "from __future__ import division, print_function, absolute_import\n",
    "\n",
    "# Normal imports:\n",
    "import numpy as np"
   ]
  },
  {
   "cell_type": "code",
   "execution_count": 2,
   "metadata": {
    "collapsed": false,
    "slideshow": {
     "slide_type": "skip"
    }
   },
   "outputs": [],
   "source": [
    "import numpy as np\n",
    "\n",
    "# Keep the random numbers identical over runs\n",
    "np.random.seed(12345)"
   ]
  },
  {
   "cell_type": "markdown",
   "metadata": {
    "slideshow": {
     "slide_type": "slide"
    }
   },
   "source": [
    "# Introduction to the scientific python stack\n",
    "\n",
    "![](images/python-stack.svg)\n"
   ]
  },
  {
   "cell_type": "markdown",
   "metadata": {
    "slideshow": {
     "slide_type": "-"
    }
   },
   "source": [
    "In this course we will cover:\n",
    "\n",
    "* Numpy basics\n",
    "* Matplotlib\n",
    "* Less basic Numpy - 14.11\n",
    "* Image processing - 29.11"
   ]
  },
  {
   "cell_type": "markdown",
   "metadata": {
    "slideshow": {
     "slide_type": "slide"
    }
   },
   "source": [
    "# Basics Numpy"
   ]
  },
  {
   "cell_type": "markdown",
   "metadata": {
    "slideshow": {
     "slide_type": "slide"
    }
   },
   "source": [
    "About Numpy\n",
    "===========\n",
    "\n",
    "\n",
    "  * Basis for scientific computing with Python\n",
    "  * A powerfull N-dimension array object\n",
    "  * Basic and not so basic math operations\n",
    "  * Linear algebra operations\n",
    "  * _Normally_ homogenous data (i.e. numbers)\n",
    "  * random numbers, FFT, sorting, …\n"
   ]
  },
  {
   "cell_type": "markdown",
   "metadata": {
    "slideshow": {
     "slide_type": "fragment"
    }
   },
   "source": [
    "Convention\n",
    "----------"
   ]
  },
  {
   "cell_type": "code",
   "execution_count": 3,
   "metadata": {
    "collapsed": false,
    "slideshow": {
     "slide_type": "-"
    }
   },
   "outputs": [],
   "source": [
    "import numpy as np"
   ]
  },
  {
   "cell_type": "markdown",
   "metadata": {
    "slideshow": {
     "slide_type": "slide"
    }
   },
   "source": [
    "# Numpy is useful"
   ]
  },
  {
   "cell_type": "markdown",
   "metadata": {
    "slideshow": {
     "slide_type": "-"
    }
   },
   "source": [
    "* Homogenous data:\n",
    "  - Experimental data sets\n",
    "  - Simulations\n",
    "  - …\n",
    "\n",
    "**For example**:"
   ]
  },
  {
   "cell_type": "markdown",
   "metadata": {
    "slideshow": {
     "slide_type": "-"
    }
   },
   "source": [
    "NumPy can be much faster (typically $\\approx 50\\times$):"
   ]
  },
  {
   "cell_type": "code",
   "execution_count": 26,
   "metadata": {
    "collapsed": false,
    "slideshow": {
     "slide_type": "-"
    }
   },
   "outputs": [],
   "source": [
    "x = np.linspace(0, 9, 1001)"
   ]
  },
  {
   "cell_type": "code",
   "execution_count": 27,
   "metadata": {
    "collapsed": false,
    "slideshow": {
     "slide_type": "-"
    }
   },
   "outputs": [
    {
     "name": "stdout",
     "output_type": "stream",
     "text": [
      "The slowest run took 16.70 times longer than the fastest. This could mean that an intermediate result is being cached.\n",
      "100000 loops, best of 3: 2.9 µs per loop\n"
     ]
    }
   ],
   "source": [
    "%%timeit\n",
    "numpy_result = np.sqrt(x)"
   ]
  },
  {
   "cell_type": "code",
   "execution_count": 28,
   "metadata": {
    "collapsed": false,
    "slideshow": {
     "slide_type": "-"
    }
   },
   "outputs": [],
   "source": [
    "from math import sqrt\n",
    "x = list(x)"
   ]
  },
  {
   "cell_type": "code",
   "execution_count": 29,
   "metadata": {
    "collapsed": false,
    "slideshow": {
     "slide_type": "-"
    }
   },
   "outputs": [
    {
     "name": "stdout",
     "output_type": "stream",
     "text": [
      "10000 loops, best of 3: 74.4 µs per loop\n"
     ]
    }
   ],
   "source": [
    "%%timeit\n",
    "python_result = [sqrt(value) for value in x]"
   ]
  },
  {
   "cell_type": "markdown",
   "metadata": {
    "slideshow": {
     "slide_type": "-"
    }
   },
   "source": [
    "(The actual speedup depends, but it can be much more for simple operations like $\\times, +$)"
   ]
  },
  {
   "cell_type": "markdown",
   "metadata": {
    "slideshow": {
     "slide_type": "slide"
    }
   },
   "source": [
    "# Arrays are "
   ]
  },
  {
   "cell_type": "markdown",
   "metadata": {
    "slideshow": {
     "slide_type": "-"
    }
   },
   "source": [
    "\n",
    "A homogeneous N-Dimensional (``ndarray``)\n",
    "* dimensions are called axes\n",
    "* number of axes, or dimensions, is the rank\n"
   ]
  },
  {
   "cell_type": "markdown",
   "metadata": {
    "slideshow": {
     "slide_type": "-"
    }
   },
   "source": [
    "For example:\n",
    "\n",
    "The coordinates of a point in a 3D space `[2, 1, 3]` is an array of rank 1, because it has one axis with length 3\n",
    "\n",
    "The array\n",
    "\n",
    "```python\n",
    "[[ 1., 0., 0.],\n",
    " [ 0., 1., 2.]]\n",
    " ```\n",
    " \n",
    " * has rank 2 (2-dimensions)\n",
    " * the first dimension (axis) has length 2\n",
    " * the second 3\n",
    " "
   ]
  },
  {
   "cell_type": "markdown",
   "metadata": {
    "slideshow": {
     "slide_type": "-"
    }
   },
   "source": [
    "Some important **attributes** of an **ndarray** object are:\n",
    "\n",
    "`ndarray.ndim`   \n",
    " number of axes (dimensions) of the array, referred to as rank\n",
    "   \n",
    "`ndarray.shape`    \n",
    "size of the array in each dimension\n",
    "\n",
    "`ndarray.size`   \n",
    "number of elements of the array\n",
    "\n",
    "`ndarray.dtype`   \n",
    "type of the elements in the array"
   ]
  },
  {
   "cell_type": "markdown",
   "metadata": {
    "slideshow": {
     "slide_type": "slide"
    }
   },
   "source": [
    "## Array creation"
   ]
  },
  {
   "cell_type": "code",
   "execution_count": 9,
   "metadata": {
    "collapsed": false,
    "slideshow": {
     "slide_type": "-"
    }
   },
   "outputs": [
    {
     "data": {
      "text/plain": [
       "array([2, 3, 4])"
      ]
     },
     "execution_count": 9,
     "metadata": {},
     "output_type": "execute_result"
    }
   ],
   "source": [
    "np.array([2,3,4])"
   ]
  },
  {
   "cell_type": "markdown",
   "metadata": {
    "slideshow": {
     "slide_type": "-"
    }
   },
   "source": [
    "### Arrays can have different ranks (number of dimensions) \n",
    "\n",
    "A bit like nested lists:\n",
    "\n",
    "\n",
    "**0 dimensional**"
   ]
  },
  {
   "cell_type": "code",
   "execution_count": 10,
   "metadata": {
    "collapsed": false,
    "slideshow": {
     "slide_type": "-"
    }
   },
   "outputs": [
    {
     "name": "stdout",
     "output_type": "stream",
     "text": [
      "5\n",
      "The rank is: 0\n",
      "The shape is: ()\n"
     ]
    }
   ],
   "source": [
    "arr = np.array(5)\n",
    "# although 0-d arrays are sometimes a bit special :(\n",
    "print(arr)\n",
    "print('The rank is:', arr.ndim)\n",
    "print('The shape is:', arr.shape)"
   ]
  },
  {
   "cell_type": "markdown",
   "metadata": {
    "slideshow": {
     "slide_type": "-"
    }
   },
   "source": [
    "**1 dimensional**"
   ]
  },
  {
   "cell_type": "code",
   "execution_count": 11,
   "metadata": {
    "collapsed": false,
    "slideshow": {
     "slide_type": "-"
    }
   },
   "outputs": [
    {
     "name": "stdout",
     "output_type": "stream",
     "text": [
      "[4 5 6]\n",
      "The rank is: 1\n",
      "The shape is: (3,)\n"
     ]
    }
   ],
   "source": [
    "arr = np.array([4, 5, 6])\n",
    "print(arr)\n",
    "print('The rank is:', arr.ndim)\n",
    "print('The shape is:', arr.shape)"
   ]
  },
  {
   "cell_type": "markdown",
   "metadata": {
    "slideshow": {
     "slide_type": "-"
    }
   },
   "source": [
    "**2 dimensional**"
   ]
  },
  {
   "cell_type": "code",
   "execution_count": 12,
   "metadata": {
    "collapsed": false,
    "slideshow": {
     "slide_type": "-"
    }
   },
   "outputs": [
    {
     "name": "stdout",
     "output_type": "stream",
     "text": [
      "[[1 2]\n",
      " [3 4]\n",
      " [5 6]]\n",
      "The dimension is: 2\n",
      "The shape is: (3, 2)\n"
     ]
    }
   ],
   "source": [
    "arr = np.array([[1, 2],\n",
    "                [3, 4],\n",
    "                [5, 6]])\n",
    "print(arr)\n",
    "print('The dimension is:', arr.ndim)\n",
    "print('The shape is:', arr.shape)"
   ]
  },
  {
   "cell_type": "markdown",
   "metadata": {
    "slideshow": {
     "slide_type": "-"
    }
   },
   "source": [
    "**3 dimensional**"
   ]
  },
  {
   "cell_type": "code",
   "execution_count": 13,
   "metadata": {
    "collapsed": false,
    "slideshow": {
     "slide_type": "-"
    }
   },
   "outputs": [
    {
     "name": "stdout",
     "output_type": "stream",
     "text": [
      "The dimension is: 3\n",
      "The shape is: (2, 2, 2)\n"
     ]
    }
   ],
   "source": [
    "arr = np.array([[[1, 2],\n",
    "                 [2, 3]],\n",
    "                [[4, 5],\n",
    "                 [8, 9]]])\n",
    "print('The dimension is:', arr.ndim)\n",
    "print('The shape is:', arr.shape)"
   ]
  },
  {
   "cell_type": "markdown",
   "metadata": {
    "slideshow": {
     "slide_type": "-"
    }
   },
   "source": [
    "... and in general n-dimensional, they are called **`ndarray`** after all"
   ]
  },
  {
   "cell_type": "markdown",
   "metadata": {
    "slideshow": {
     "slide_type": "slide"
    }
   },
   "source": [
    "### Functions for generating arrays"
   ]
  },
  {
   "cell_type": "code",
   "execution_count": 14,
   "metadata": {
    "collapsed": false,
    "slideshow": {
     "slide_type": "-"
    }
   },
   "outputs": [
    {
     "name": "stdout",
     "output_type": "stream",
     "text": [
      "array([[ 0.,  0.,  0.,  0.],\n",
      "       [ 0.,  0.,  0.,  0.],\n",
      "       [ 0.,  0.,  0.,  0.]])\n",
      "Shape: (3, 4)\n"
     ]
    }
   ],
   "source": [
    "arr = np.zeros((3, 4))\n",
    "print(repr(arr))\n",
    "print('Shape:', arr.shape)"
   ]
  },
  {
   "cell_type": "code",
   "execution_count": 15,
   "metadata": {
    "collapsed": false,
    "slideshow": {
     "slide_type": "-"
    }
   },
   "outputs": [
    {
     "data": {
      "text/plain": [
       "array([0, 0, 0])"
      ]
     },
     "execution_count": 15,
     "metadata": {},
     "output_type": "execute_result"
    }
   ],
   "source": [
    "np.zeros(3, dtype=np.int64)"
   ]
  },
  {
   "cell_type": "code",
   "execution_count": 16,
   "metadata": {
    "collapsed": false,
    "slideshow": {
     "slide_type": "-"
    }
   },
   "outputs": [
    {
     "name": "stderr",
     "output_type": "stream",
     "text": [
      "/home/florencia/venvs/py3venv/lib/python3.4/site-packages/numpy/core/numeric.py:301: FutureWarning: in the future, full((1, 3), 5) will return an array of dtype('int64')\n",
      "  format(shape, fill_value, array(fill_value).dtype), FutureWarning)\n"
     ]
    },
    {
     "data": {
      "text/plain": [
       "array([[ 5.,  5.,  5.]])"
      ]
     },
     "execution_count": 16,
     "metadata": {},
     "output_type": "execute_result"
    }
   ],
   "source": [
    "np.full((1, 3), 5)"
   ]
  },
  {
   "cell_type": "markdown",
   "metadata": {
    "slideshow": {
     "slide_type": "-"
    }
   },
   "source": [
    "#### Special one dimensional arrays"
   ]
  },
  {
   "cell_type": "markdown",
   "metadata": {
    "slideshow": {
     "slide_type": "-"
    }
   },
   "source": [
    "Ranges for float and integer arrays"
   ]
  },
  {
   "cell_type": "code",
   "execution_count": 17,
   "metadata": {
    "collapsed": false,
    "slideshow": {
     "slide_type": "-"
    }
   },
   "outputs": [
    {
     "data": {
      "text/plain": [
       "array([0, 1, 2, 3, 4, 5, 6, 7, 8, 9])"
      ]
     },
     "execution_count": 17,
     "metadata": {},
     "output_type": "execute_result"
    }
   ],
   "source": [
    "np.arange(10)  # much like pythons range"
   ]
  },
  {
   "cell_type": "markdown",
   "metadata": {
    "slideshow": {
     "slide_type": "-"
    }
   },
   "source": [
    "<font color='red'>Note:</font> Please do not use ``arange`` for floats!"
   ]
  },
  {
   "cell_type": "code",
   "execution_count": 18,
   "metadata": {
    "collapsed": false,
    "slideshow": {
     "slide_type": "-"
    }
   },
   "outputs": [
    {
     "data": {
      "text/plain": [
       "array([ 0. ,  0.5,  1. ,  1.5,  2. ,  2.5,  3. ])"
      ]
     },
     "execution_count": 18,
     "metadata": {},
     "output_type": "execute_result"
    }
   ],
   "source": [
    "np.linspace(0, 3, 7)"
   ]
  },
  {
   "cell_type": "markdown",
   "metadata": {
    "slideshow": {
     "slide_type": "-"
    }
   },
   "source": [
    "** N-Dimensional versions:**\n",
    "\n",
    "```np.meshgrid; np.ogrid; np.mgrid```"
   ]
  },
  {
   "cell_type": "markdown",
   "metadata": {
    "slideshow": {
     "slide_type": "-"
    }
   },
   "source": [
    "#### See also:\n",
    "```python\n",
    "array, zeros, zeros_like, ones, ones_like, empty, empty_like, arange, \n",
    "linspace, numpy.random.rand, numpy.random.randn, fromfunction, fromfile,\n",
    "full, loadtxt, eye, diag\n",
    "```"
   ]
  },
  {
   "cell_type": "markdown",
   "metadata": {
    "slideshow": {
     "slide_type": "slide"
    }
   },
   "source": [
    "### Exercise\n",
    "\n",
    "1. Use ```np.random.randint``` to create a 2 x 2 matrix. \n",
    "\n",
    "2. Create again this matrix typing each element.\n",
    "\n",
    "<!---\n",
    "a = np.random.randint(2,6, (2,2))\n",
    "--->\n",
    "\n",
    "**Solution:**"
   ]
  },
  {
   "cell_type": "markdown",
   "metadata": {
    "slideshow": {
     "slide_type": "slide"
    }
   },
   "source": [
    "# Lets do math!"
   ]
  },
  {
   "cell_type": "code",
   "execution_count": 19,
   "metadata": {
    "collapsed": false,
    "slideshow": {
     "slide_type": "-"
    }
   },
   "outputs": [
    {
     "name": "stdout",
     "output_type": "stream",
     "text": [
      "[-1.  -0.5  0.   0.5  1. ]  + 1 = \n"
     ]
    }
   ],
   "source": [
    "## scalar addition\n",
    "arr = np.linspace(-1, 1, 5)\n",
    "print(arr, \" + 1 = \")\n",
    "#arr + 1"
   ]
  },
  {
   "cell_type": "code",
   "execution_count": 20,
   "metadata": {
    "collapsed": false,
    "slideshow": {
     "slide_type": "-"
    }
   },
   "outputs": [
    {
     "name": "stdout",
     "output_type": "stream",
     "text": [
      "a \n",
      " [[0 1]\n",
      " [2 3]] \n",
      "b\n",
      " [[ 0 -1]\n",
      " [-2 -3]]\n"
     ]
    }
   ],
   "source": [
    "## vector sum\n",
    "a = np.arange(4).reshape(2,2)\n",
    "b = -np.arange(4).reshape(2,2)\n",
    "print('a \\n', a, '\\nb\\n', b)\n",
    "#print('a + b = \\n', a+b)"
   ]
  },
  {
   "cell_type": "markdown",
   "metadata": {
    "slideshow": {
     "slide_type": "-"
    }
   },
   "source": [
    "### Elementwise operations (unlike lists)\n",
    "\n",
    "A new array is created and filled with the result.\n",
    "\n",
    "#### Arithmetic operators\n",
    "\n",
    "```python\n",
    "\n",
    "    a-b\n",
    "\n",
    "    b**2\n",
    "\n",
    "    a < 35\n",
    "\n",
    "    A*B  # elementwise product\n",
    "\n",
    "    A.dot(B)  # matrix product\n",
    "    \n",
    "```\n",
    "\n",
    "Some operations, such as += and *=, act in place, modify an existing array rather than create a new one. \n",
    "\n",
    "```python\n",
    "    a *= 3\n",
    "```\n",
    "\n",
    "#### Universal Functions (ufunc)\n",
    "\n",
    "```python\n",
    "    np.exp()\n",
    "\n",
    "    np.sqrt()\n",
    "    \n",
    "    np.sin()\n",
    "\n",
    "```\n",
    "    "
   ]
  },
  {
   "cell_type": "markdown",
   "metadata": {
    "slideshow": {
     "slide_type": "slide"
    }
   },
   "source": [
    "## Indexing, Slicing and Iterating\n",
    "\n",
    "Like lists\n",
    "```python\n",
    "arr[]\n",
    "arr[:]\n",
    "arr[::]\n",
    "```"
   ]
  },
  {
   "cell_type": "code",
   "execution_count": 21,
   "metadata": {
    "collapsed": false,
    "slideshow": {
     "slide_type": "-"
    }
   },
   "outputs": [
    {
     "data": {
      "text/plain": [
       "array([ 0,  1,  4,  9, 16])"
      ]
     },
     "execution_count": 21,
     "metadata": {},
     "output_type": "execute_result"
    }
   ],
   "source": [
    "a = np.arange(5)**2\n",
    "a"
   ]
  },
  {
   "cell_type": "code",
   "execution_count": 22,
   "metadata": {
    "collapsed": false,
    "slideshow": {
     "slide_type": "-"
    }
   },
   "outputs": [
    {
     "data": {
      "text/plain": [
       "16"
      ]
     },
     "execution_count": 22,
     "metadata": {},
     "output_type": "execute_result"
    }
   ],
   "source": [
    "# get an element\n",
    "a[-1]"
   ]
  },
  {
   "cell_type": "code",
   "execution_count": 23,
   "metadata": {
    "collapsed": false,
    "slideshow": {
     "slide_type": "-"
    }
   },
   "outputs": [
    {
     "data": {
      "text/plain": [
       "array([100,   1,   4,   9,  16])"
      ]
     },
     "execution_count": 23,
     "metadata": {},
     "output_type": "execute_result"
    }
   ],
   "source": [
    "# use indexing to assign new values to the array\n",
    "a[0] = 100\n",
    "a"
   ]
  },
  {
   "cell_type": "code",
   "execution_count": 24,
   "metadata": {
    "collapsed": false,
    "slideshow": {
     "slide_type": "-"
    }
   },
   "outputs": [
    {
     "data": {
      "text/plain": [
       "array([100,   4,  16])"
      ]
     },
     "execution_count": 24,
     "metadata": {},
     "output_type": "execute_result"
    }
   ],
   "source": [
    "a[::2]"
   ]
  },
  {
   "cell_type": "code",
   "execution_count": 25,
   "metadata": {
    "collapsed": false,
    "slideshow": {
     "slide_type": "-"
    }
   },
   "outputs": [
    {
     "name": "stdout",
     "output_type": "stream",
     "text": [
      "100\n",
      "1\n",
      "4\n",
      "9\n",
      "16\n"
     ]
    }
   ],
   "source": [
    "for element in a:\n",
    "    print(element)"
   ]
  },
  {
   "cell_type": "markdown",
   "metadata": {
    "slideshow": {
     "slide_type": "slide"
    }
   },
   "source": [
    "# Conclusions\n",
    "\n",
    "We have seen:\n",
    "\n",
    "\n",
    "1. How to do convenient, fast math in NumPy\n",
    "2. ndarray\n",
    "\t* its attributes\n",
    "    * how to create them\n",
    "    * operations, slicing and indexing\n",
    "3. Later more information on how to plot with matplotlib, but before so [exercises](https://github.com/MPIDS/introduction_to_programming/blob/master/02_numpy_matplotlib_scipy/exercises/exercises-numpy_01.ipynb)\n",
    "\n",
    "\n",
    "# References\n",
    "\n",
    "* https://docs.scipy.org/doc/numpy-dev/user/quickstart.html"
   ]
  },
  {
   "cell_type": "code",
   "execution_count": null,
   "metadata": {
    "collapsed": true
   },
   "outputs": [],
   "source": []
  }
 ],
 "metadata": {
  "kernelspec": {
   "display_name": "Python 3",
   "language": "python",
   "name": "python3"
  },
  "language_info": {
   "codemirror_mode": {
    "name": "ipython",
    "version": 3
   },
   "file_extension": ".py",
   "mimetype": "text/x-python",
   "name": "python",
   "nbconvert_exporter": "python",
   "pygments_lexer": "ipython3",
   "version": "3.4.3"
  }
 },
 "nbformat": 4,
 "nbformat_minor": 0
}
