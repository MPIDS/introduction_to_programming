{
 "cells": [
  {
   "cell_type": "markdown",
   "metadata": {},
   "source": [
    "# Spatial Rock-Paper-Scissor\n",
    "\n",
    "\n",
    "\n",
    "\n",
    "![image](rock-paper-scissor.svg) "
   ]
  },
  {
   "cell_type": "code",
   "execution_count": 1,
   "metadata": {
    "collapsed": false
   },
   "outputs": [],
   "source": [
    "import random\n",
    "import numpy as np\n",
    "from scipy.misc import imsave\n",
    "import matplotlib\n",
    "matplotlib.use('TkAgg')\n",
    "import pylab as pl\n",
    "from matplotlib import animation\n",
    "#pl.ion()"
   ]
  },
  {
   "cell_type": "code",
   "execution_count": 2,
   "metadata": {
    "collapsed": true
   },
   "outputs": [],
   "source": [
    "def iterations(state,n):\n",
    "    '''update n randomly chosen sites'''\n",
    "    for i in range(n):\n",
    "        Nx,Ny = state.shape\n",
    "        x,y = np.random.randint(0,Nx-1), np.random.randint(0,Ny-1)\n",
    "        x2,y2 = random.choice([((x+1)%Nx,y),((x-1)%Nx,y),(x,(y-1)%Ny),(x,(y+1)%Ny)])\n",
    "        a,b = state[x,y], state[x2,y2]\n",
    "        if a != b:\n",
    "            if (a==1 and b==2) or (a==2 and b==3) or (a==3 and b==1):\n",
    "                #if random.random() < 0.2:\n",
    "                state[x2,y2] = state[x,y]\n",
    "            else:\n",
    "                state[x,y] = state[x2,y2]"
   ]
  },
  {
   "cell_type": "code",
   "execution_count": 2,
   "metadata": {
    "collapsed": true
   },
   "outputs": [],
   "source": [
    "p_reproduction = 100\n",
    "p_selection = 100\n",
    "p_mobility = 20\n",
    "\n",
    "total = p_reproduction + p_selection + p_mobility\n",
    "p_reproduction, p_selection, p_mobility = p_reproduction/float(total), p_selection/float(total), p_mobility/float(total)\n",
    "\n",
    "def iterations(state,n):\n",
    "    '''update n randomly chosen sites'''\n",
    "    for i in range(n):\n",
    "        Nx,Ny = state.shape\n",
    "        x,y = np.random.randint(0,Nx-1), np.random.randint(0,Ny-1)\n",
    "        x2,y2 = random.choice([((x+1)%Nx,y),((x-1)%Nx,y),(x,(y-1)%Ny),(x,(y+1)%Ny)])\n",
    "        a,b = state[x,y], state[x2,y2]\n",
    "        r = random.random()\n",
    "        if r < p_reproduction:\n",
    "            if a==0 and b!=0:\n",
    "                state[x,y] = state[x2,y2]\n",
    "            elif a!=0 and b==0:\n",
    "                state[x2,y2] = state[x,y]\n",
    "        elif r < p_reproduction+p_selection:\n",
    "            if a!=0 and b!=0 and a!=b:\n",
    "                if (a==1 and b==2):\n",
    "                    state[x2,y2] = 0\n",
    "                elif (a==2 and b==3):\n",
    "                    state[x2,y2] = 0\n",
    "                elif(a==3 and b==1):\n",
    "                    state[x2,y2] = 0\n",
    "                else:\n",
    "                    state[x,y] = 0\n",
    "        elif r < p_reproduction+p_selection+p_mobility:\n",
    "            state[x,y],state[x2,y2] = b,a"
   ]
  },
  {
   "cell_type": "code",
   "execution_count": null,
   "metadata": {
    "collapsed": false
   },
   "outputs": [],
   "source": [
    "fig = pl.figure()\n",
    "\n",
    "state = np.random.randint(1,4,size=(100,100))\n",
    "#state[:30] = 1\n",
    "#state[30:40] = 2\n",
    "#state[40:] = 3\n",
    "\n",
    "im = pl.imshow(state, animated=True)\n",
    "\n",
    "def updatefig(*args):\n",
    "    global state\n",
    "    iterations(state,10000)\n",
    "    palette = [ [0,0,0], [255,0,0], [0,255,0], [0,0,255] ]\n",
    "    image = np.fromfunction(np.vectorize(lambda i,j,k: palette[state[i,j]][k]), shape=(state.shape[0],state.shape[1],3), dtype = np.uint8)\n",
    "    #imsave('%03i.tiff'%i, image)\n",
    "    im.set_array(state)\n",
    "    return im,\n",
    "\n",
    "ani = animation.FuncAnimation(fig, updatefig, interval=20)\n",
    "pl.show()\n"
   ]
  },
  {
   "cell_type": "code",
   "execution_count": null,
   "metadata": {
    "collapsed": false,
    "scrolled": true
   },
   "outputs": [],
   "source": []
  }
 ],
 "metadata": {
  "kernelspec": {
   "display_name": "Python 3",
   "language": "python",
   "name": "python3"
  },
  "language_info": {
   "codemirror_mode": {
    "name": "ipython",
    "version": 3
   },
   "file_extension": ".py",
   "mimetype": "text/x-python",
   "name": "python",
   "nbconvert_exporter": "python",
   "pygments_lexer": "ipython3",
   "version": "3.5.2+"
  }
 },
 "nbformat": 4,
 "nbformat_minor": 0
}
