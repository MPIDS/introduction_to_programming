{
 "cells": [
  {
   "cell_type": "markdown",
   "metadata": {},
   "source": [
    "# Project 1 - Spike train analysis"
   ]
  },
  {
   "cell_type": "markdown",
   "metadata": {},
   "source": [
    "In this project you can play around with electrophysiological data from an extra-cellular recording of a retinal ganglion cell which is stimulated with drifting gratings, projected onto an in-vitro mouse retina (data from Michael Weick, Gollisch Lab).\n",
    "\n",
    "The file 'Vtrace.dat' contains the voltage trace of the extra-cellular recording. The trace is sampled with 10 kHz, meaning that the voltage is measured every 0.1 ms. The cell responds to drifting gratings in 9 directions. The starting time of each direction is saved in 'trigger.dat' and the corresponding drift directions in 'driftDirection.dat'.\n",
    "When loading the data from 'Vtrace.dat', be patient, since it is a large file. **Useful functions:** `numpy.loadtxt`\n",
    "\n",
    "1. **Spike detection:** For detecting when the cell was firing a spike, the time points where the voltage trace is crossing a certain threshold have to be identified. Plot a data fraction (not the whole data since it is large) and look for a reasonable threshold for spike detection. \n",
    "**Note:** This is an external recording, hence, a spike peaks at negative voltages. You should also check whether you got the spike times correctly and the shape of the spikes within a certain time window around the peak.\n",
    "\n",
    "2. **Spiking statistics:** The inter-spike-intervals (ISIs) tell you a lot about the spiking behavior of a cell, e.g. if the cell is bursting or only firing single spikes with long intermittence. You can get the interval between neighboring spikes and observe their distribution in a histogram.\n",
    "In many models of neural networks, the inter-spike-intervals are assumed to follow a Poisson distribution. Test if this is true for this cell by fitting a general Poisson distribution to the ISI-histogram.\n",
    "The general Poisson distribution is defined as \n",
    "$$P(k, a, b) = \\frac{b(b + k a)^{k-1}}{k!}e^{-b-ka},$$\n",
    "where $a$ and $b$ are the free parameters you have to determine by using `scipy.optimize.curve_fit()`. You have to consider, that $k$ are integers. This means that instead of using the x-values from the histogram, you have to use the bin numbers. Also, since the Poisson distribution is a probability density, the total sum of all entries in the histogram has to be normalized to one.\n",
    "The mean and the standard deviation of the Poisson distribution are then given by $E=\\frac{b}{1-a}\\Delta x$ and $\\sigma = \\sqrt{\\frac{b}{(1-a)^3}}\\Delta x$.\n",
    "**Useful functions:** `scipy.misc.factorial()`, `numpy.exp()`, `pylab.bar`, `numpy.diff()`, `pylab.hist()`, `scipy.optimize.curve_fit()` In the scipy package optimize you can find lots of useful tools for analyzing your data. One of them is a function which allows you to fit any function to your data. Import the module scipy and also scipy.optimize. Then call the help function to familiarize yourself with the usage of scipy.optimize.curve_fit().\n",
    "\n",
    "3. **Stimulus-response-correlation:** The spikes of the retinal ganglion cell have been triggered by a visual stimulus which consists of drifting black and white bars moving into 8 different directions. The file 'trigger.dat' contains the starting times of each new direction. Each stimulus is 4 s long, the remaining 4 s record the spontaneous activity of the cell. The spike timings have to be reorganized into a matrix of spike counts per stimulus and time bin, called PSTH. For each trigger signal, store the spike counts to the corresponding row of the matrix. Since each stimulus is periodicly repeated with a frequency of 3 Hz, we can average the spike counts over chunks of 1 second.\n",
    "Therefore, you have to create a matrix of indices which packs the chunks on top of each other, so that we can average over them.\n",
    "**Useful functions:** `numpy.histogram`, `numpy.reshape()`\n",
    "\n",
    "4. **Direction selectivity:** The data we are analysing here is from a direction selective retinal ganglion cell. This means that the cell responds stronger to a certain direction of motion than to another. To determine this direction we plot the total spike count for each stimulus against the direction into which the grating is moving.\n",
    "The file 'driftDirections.dat' gives you the direction of each stimulus in the order of the trigger signals. Determine the total spike count for each stimulus and plot the spike counts against the corresponding directions in a polar plot. This tuning curve can be fitted by a cosine function which allows to estimate the preferred direction of the cell.\n",
    "$$F(x, a, b, c) = a + |b|\\cos(x-c),$$\n",
    "where the parameter $c$ tells us how many degrees the cosine was shifted along the x-axis.\n",
    "After defining the function $F$, try fitting this function to the x- and y-data of the tuning curve. Don't forget to pass the fitting parameters to a variable. Print this variable to get an impression how the output looks like. The first element of this variable should contain the fitting parameters itself, whereas the second element contains the fitting errors.\n",
    "**Useful functions:** `numpy.sum()`, `numpy.argsort()`, `pylab.polar()`, `numpy.abs()`, `numpy.cos()`\n"
   ]
  },
  {
   "cell_type": "code",
   "execution_count": null,
   "metadata": {
    "collapsed": false
   },
   "outputs": [],
   "source": []
  }
 ],
 "metadata": {
  "anaconda-cloud": {},
  "kernelspec": {
   "display_name": "Python [default]",
   "language": "python",
   "name": "python3"
  },
  "language_info": {
   "codemirror_mode": {
    "name": "ipython",
    "version": 3
   },
   "file_extension": ".py",
   "mimetype": "text/x-python",
   "name": "python",
   "nbconvert_exporter": "python",
   "pygments_lexer": "ipython3",
   "version": "3.5.2"
  }
 },
 "nbformat": 4,
 "nbformat_minor": 0
}
