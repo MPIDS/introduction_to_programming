{
 "cells": [
  {
   "cell_type": "markdown",
   "metadata": {},
   "source": [
    "# Blob counter"
   ]
  },
  {
   "cell_type": "markdown",
   "metadata": {},
   "source": [
    "Get the cv2 module (OpenCV 3.0 for Python 3.x) for advanced image processing. Load an image containing multiple circular objects of similar shapes (examples: billard table, EM section of rod synapse from Schmitz F, Front Mol Neurosci, 2014). Preprocess the image for later object/blob detection and count the detected objects/blobs. You can try the following steps and play around with the parameters to learn how they influence the results:\n",
    "\n",
    "1. Reduce image noise by (Gaussian) smoothing\n",
    "2. Find brightness gradients and contrast edges with Sobel, Laplacian or bilateral filtering\n",
    "2. Transform the picture into a binary image by (adaptive) thresholding\n",
    "3. Detect edges with canny edge detection\n",
    "4. Detect circular objects with circle Hough transformation or blob detection\n",
    "\n",
    "You can get inspiration from\n",
    "https://opencv-python-tutroals.readthedocs.io/en/latest/py_tutorials/py_tutorials.html"
   ]
  },
  {
   "cell_type": "code",
   "execution_count": null,
   "metadata": {
    "collapsed": true
   },
   "outputs": [],
   "source": []
  }
 ],
 "metadata": {
  "anaconda-cloud": {},
  "kernelspec": {
   "display_name": "Python [default]",
   "language": "python",
   "name": "python3"
  },
  "language_info": {
   "codemirror_mode": {
    "name": "ipython",
    "version": 3
   },
   "file_extension": ".py",
   "mimetype": "text/x-python",
   "name": "python",
   "nbconvert_exporter": "python",
   "pygments_lexer": "ipython3",
   "version": "3.5.2"
  }
 },
 "nbformat": 4,
 "nbformat_minor": 0
}
