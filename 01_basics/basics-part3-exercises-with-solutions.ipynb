{
 "cells": [
  {
   "cell_type": "markdown",
   "metadata": {},
   "source": [
    "# 1. Find Errors"
   ]
  },
  {
   "cell_type": "markdown",
   "metadata": {},
   "source": [
    "*Learned Skills: basic python skills*"
   ]
  },
  {
   "cell_type": "markdown",
   "metadata": {},
   "source": [
    "Find programming errors in the following code"
   ]
  },
  {
   "cell_type": "code",
   "execution_count": 2,
   "metadata": {
    "collapsed": false
   },
   "outputs": [
    {
     "name": "stdout",
     "output_type": "stream",
     "text": [
      "Enter a number: 4\n",
      "the average of 4 random numbers is 0.356576\n"
     ]
    }
   ],
   "source": [
    "#!/usr/bin/ env python\n",
    "\n",
    "import random\n",
    "\n",
    "def compute(n):\n",
    "    i = 0; s = 0\n",
    "    while i <= n:\n",
    "        s += random.random()\n",
    "        i += 1\n",
    "    return s/n\n",
    "\n",
    "n = int(input(\"Enter a number: \"))\n",
    "\n",
    "print('the average of %d random numbers is %g' % (n, compute(n)))"
   ]
  },
  {
   "cell_type": "markdown",
   "metadata": {},
   "source": [
    "# 2. Rock-paper-scissors"
   ]
  },
  {
   "cell_type": "markdown",
   "metadata": {},
   "source": [
    "*Learned Skills: Random choices*"
   ]
  },
  {
   "cell_type": "markdown",
   "metadata": {},
   "source": [
    "Implement the game of rock-paper-scissors. Extra: make it rock-paper-scissors-lizard-\n",
    "spock (if you do not know it, Wikipedia should help).\n",
    "\n",
    "**Useful:** $\\mathtt{random.choice()}$"
   ]
  },
  {
   "cell_type": "code",
   "execution_count": 11,
   "metadata": {
    "collapsed": false
   },
   "outputs": [
    {
     "name": "stdout",
     "output_type": "stream",
     "text": [
      "One, two, three... (type your choice: (r)ock,(p)aper,(s)cissors - any other key to end the game)\n",
      "p\n",
      "Computer plays: p\n",
      "Again.\n",
      "\n",
      "One, two, three... (type your choice: (r)ock,(p)aper,(s)cissors - any other key to end the game)\n",
      "s\n",
      "Computer plays: p\n",
      "Okay, you win.\n",
      "\n",
      "One, two, three... (type your choice: (r)ock,(p)aper,(s)cissors - any other key to end the game)\n",
      "r\n",
      "Computer plays: r\n",
      "Again.\n",
      "\n",
      "One, two, three... (type your choice: (r)ock,(p)aper,(s)cissors - any other key to end the game)\n",
      "p\n",
      "Computer plays: r\n",
      "Okay, you win.\n",
      "\n",
      "One, two, three... (type your choice: (r)ock,(p)aper,(s)cissors - any other key to end the game)\n",
      "c\n",
      "Game over.\n",
      "One, two, three... (type your choice: (r)ock,(p)aper,(s)cissors,(l)izard,spoc(k) - any other key to end the game)\n",
      "k\n",
      "Computer plays: l\n",
      "I win!\n",
      "\n",
      "One, two, three... (type your choice: (r)ock,(p)aper,(s)cissors,(l)izard,spoc(k) - any other key to end the game)\n",
      "u\n",
      "Game over.\n"
     ]
    }
   ],
   "source": [
    "from random import choice\n",
    "\n",
    "# Rock Paper Scissors\n",
    "\n",
    "choices = ('r','p','s')\n",
    "while 1:\n",
    "    userchoice = input(\"One, two, three... (type your choice: (r)ock,(p)aper,(s)cissors - any other key to end the game)\\n\")\n",
    "    if not userchoice in choices:\n",
    "        print(\"Game over.\")\n",
    "        break\n",
    "    else:\n",
    "        compchoice = choice(choices)\n",
    "        print(\"Computer plays: \" + compchoice)\n",
    "        if userchoice == compchoice:\n",
    "            print(\"Again.\\n\")\n",
    "        # note that due to shift symmetry of game rules one can avoid many if-statements\n",
    "        # a choice defeats its previous and is defeated by its followers\n",
    "        elif compchoice == choices[(choices.index(userchoice)+1)%3]:\n",
    "            print(\"I win!\\n\")\n",
    "        else:\n",
    "            print(\"Okay, you win.\\n\")\n",
    "\n",
    "    \n",
    "# Rock Paper Scissors Lizard Spock\n",
    "\n",
    "choices = ('r','k','p','l','s')\n",
    "while 1:\n",
    "    userchoice = input(\"One, two, three... (type your choice: (r)ock,(p)aper,(s)cissors,(l)izard,spoc(k) - any other key to end the game)\\n\")\n",
    "    if not userchoice in choices:\n",
    "        print(\"Game over.\")\n",
    "        break\n",
    "    else:\n",
    "        compchoice = choice(choices)\n",
    "        print(\"Computer plays: \" + compchoice)\n",
    "        if userchoice == compchoice:\n",
    "            print(\"Again.\\n\")\n",
    "        # note that due to shift symmetry of game rules one can avoid many if-statements\n",
    "        # a choice defeats its two previous and is defeated by the two followers\n",
    "        elif compchoice in (choices[(choices.index(userchoice)+1)%5], choices[(choices.index(userchoice)+2)%5]):\n",
    "            print(\"I win!\\n\")\n",
    "        else:\n",
    "            print(\"Okay, you win.\\n\")\n",
    "\n",
    "    \n"
   ]
  }
 ],
 "metadata": {
  "kernelspec": {
   "display_name": "Python 3",
   "language": "python",
   "name": "python3"
  },
  "language_info": {
   "codemirror_mode": {
    "name": "ipython",
    "version": 3
   },
   "file_extension": ".py",
   "mimetype": "text/x-python",
   "name": "python",
   "nbconvert_exporter": "python",
   "pygments_lexer": "ipython3",
   "version": "3.5.2"
  }
 },
 "nbformat": 4,
 "nbformat_minor": 0
}
