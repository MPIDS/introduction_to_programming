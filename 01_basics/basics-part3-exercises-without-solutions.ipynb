{
 "cells": [
  {
   "cell_type": "markdown",
   "metadata": {},
   "source": [
    "### Find Errors"
   ]
  },
  {
   "cell_type": "markdown",
   "metadata": {},
   "source": [
    "*Learned Skills: basic python skills*"
   ]
  },
  {
   "cell_type": "markdown",
   "metadata": {},
   "source": [
    "Find four programming errors in the following a script (if you find five, win a candy)."
   ]
  },
  {
   "cell_type": "code",
   "execution_count": 1,
   "metadata": {
    "collapsed": false
   },
   "outputs": [
    {
     "ename": "IndentationError",
     "evalue": "unexpected indent (<ipython-input-1-72ac8e0bf2b4>, line 9)",
     "output_type": "error",
     "traceback": [
      "\u001b[0;36m  File \u001b[0;32m\"<ipython-input-1-72ac8e0bf2b4>\"\u001b[0;36m, line \u001b[0;32m9\u001b[0m\n\u001b[0;31m    i += 1\u001b[0m\n\u001b[0m    ^\u001b[0m\n\u001b[0;31mIndentationError\u001b[0m\u001b[0;31m:\u001b[0m unexpected indent\n"
     ]
    }
   ],
   "source": [
    "#!/usr/bin/ env python\n",
    "\n",
    "import sys, random\n",
    "\n",
    "def compute(n):\n",
    "    i = 0; s = 0\n",
    "    while i <= n:\n",
    "        s += random.random()\n",
    "         i += 1\n",
    "    return s/n\n",
    "\n",
    "n = sys.argv[1]\n",
    "\n",
    "print('the average of %d random numbers is %g' % (n, compute(n)))"
   ]
  },
  {
   "cell_type": "markdown",
   "metadata": {},
   "source": [
    "### Rock-paper-scissors"
   ]
  },
  {
   "cell_type": "markdown",
   "metadata": {},
   "source": [
    "*Learned Skills: Random choices*"
   ]
  },
  {
   "cell_type": "markdown",
   "metadata": {},
   "source": [
    "Implement the game of rock-paper-scissors. \n",
    "**Useful:** $\\mathtt{random.choice()}$"
   ]
  }
 ],
 "metadata": {
  "kernelspec": {
   "display_name": "Python 3",
   "language": "python",
   "name": "python3"
  },
  "language_info": {
   "codemirror_mode": {
    "name": "ipython",
    "version": 3
   },
   "file_extension": ".py",
   "mimetype": "text/x-python",
   "name": "python",
   "nbconvert_exporter": "python",
   "pygments_lexer": "ipython3",
   "version": "3.5.2"
  }
 },
 "nbformat": 4,
 "nbformat_minor": 0
}
