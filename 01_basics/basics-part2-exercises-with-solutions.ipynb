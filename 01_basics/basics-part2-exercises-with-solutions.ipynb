{
 "cells": [
  {
   "cell_type": "markdown",
   "metadata": {},
   "source": [
    "# Conditions: while"
   ]
  },
  {
   "cell_type": "markdown",
   "metadata": {
    "collapsed": false
   },
   "source": [
    "The code below sets x to a random number between 0 and 100. Write a while-loop which repeatedly asks the user to guess x untill the answer is correct. If the answer is not correct, the programm tells the user whether the guess was smaller or greater than x. "
   ]
  },
  {
   "cell_type": "code",
   "execution_count": 22,
   "metadata": {
    "collapsed": false
   },
   "outputs": [
    {
     "name": "stdout",
     "output_type": "stream",
     "text": [
      "guess the number: 50\n",
      "No, the number is larger.\n",
      "guess the number: 60\n",
      "No, the number is larger.\n",
      "guess the number: 70\n",
      "No, the number is larger.\n",
      "guess the number: 80\n",
      "No, the number is larger.\n",
      "guess the number: 90\n",
      "No, the number is smaller.\n",
      "guess the number: 88\n",
      "No, the number is smaller.\n",
      "guess the number: 85\n",
      "No, the number is smaller.\n",
      "guess the number: 83\n",
      "Correct!\n"
     ]
    }
   ],
   "source": [
    "import random\n",
    "x = random.randint(0,100)\n",
    "\n",
    "while True:\n",
    "    guess = int(input(\"guess the number: \"))\n",
    "    if guess == x:\n",
    "        print(\"Correct!\")\n",
    "        break\n",
    "    elif guess > x:\n",
    "        print(\"No, the number is smaller.\")\n",
    "    elif guess < x:\n",
    "        print(\"No, the number is larger.\")"
   ]
  },
  {
   "cell_type": "markdown",
   "metadata": {},
   "source": [
    "# For-loops"
   ]
  },
  {
   "cell_type": "markdown",
   "metadata": {},
   "source": [
    "Write a for-loop which prints the items of a sequence in reversed order."
   ]
  },
  {
   "cell_type": "code",
   "execution_count": 25,
   "metadata": {
    "collapsed": false
   },
   "outputs": [
    {
     "name": "stdout",
     "output_type": "stream",
     "text": [
      "!\n",
      "e\n",
      "m\n",
      " \n",
      "e\n",
      "s\n",
      "r\n",
      "e\n",
      "v\n",
      "e\n",
      "r\n"
     ]
    }
   ],
   "source": [
    "seq = 'reverse me!'\n",
    "for i in range(len(seq)):\n",
    "    print(seq[-i-1])"
   ]
  },
  {
   "cell_type": "markdown",
   "metadata": {},
   "source": [
    "Write a for-loop which finds the minimum and the maximum value of a sequence of numbers."
   ]
  },
  {
   "cell_type": "code",
   "execution_count": 31,
   "metadata": {
    "collapsed": false
   },
   "outputs": [
    {
     "name": "stdout",
     "output_type": "stream",
     "text": [
      "[0, 2, 3, 3, 5, 6, 7, 8, 56]\n"
     ]
    }
   ],
   "source": [
    "seq = [5,3,7,3,56,8,0,6,2]\n",
    "\n",
    "for i in range(len(seq)):\n",
    "    for j in range(len(seq)-i-1):\n",
    "        if seq[j] > seq[j+1]:\n",
    "            seq[j], seq[j+1] = seq[j+1], seq[j]\n",
    "print(seq)"
   ]
  },
  {
   "cell_type": "markdown",
   "metadata": {},
   "source": [
    "The [Golden ratio](https://en.wikipedia.org/wiki/Golden_ratio) can be calculated by a continued fraction:\n",
    "\n",
    "\\begin{align}\n",
    "\\varphi = 1 + \\cfrac{1}{1 + \\cfrac{1}{1 + \\cfrac{1}{1 + \\cfrac{1}{1 + \\ddots}}}}\n",
    "\\end{align}\n",
    "\n",
    "Write a for-loop which evaluates this equation untill the 1000'th fraction."
   ]
  },
  {
   "cell_type": "code",
   "execution_count": 32,
   "metadata": {
    "collapsed": false
   },
   "outputs": [
    {
     "name": "stdout",
     "output_type": "stream",
     "text": [
      "1.618033988749895\n"
     ]
    }
   ],
   "source": [
    "value = 1\n",
    "for i in range(1000):\n",
    "    value = 1/(1+value)\n",
    "print(1+value)"
   ]
  },
  {
   "cell_type": "markdown",
   "metadata": {},
   "source": [
    "# List slicing"
   ]
  },
  {
   "cell_type": "markdown",
   "metadata": {},
   "source": [
    "Use the string given below and slices to print 'Lorem ipsum', 'elit', 'Lrmism', and 'muspi meroL'."
   ]
  },
  {
   "cell_type": "code",
   "execution_count": 21,
   "metadata": {
    "collapsed": false
   },
   "outputs": [],
   "source": [
    "s = \"Lorem ipsum dolor sit amet, consectetur adipiscing elit.\""
   ]
  },
  {
   "cell_type": "code",
   "execution_count": 35,
   "metadata": {
    "collapsed": false
   },
   "outputs": [
    {
     "name": "stdout",
     "output_type": "stream",
     "text": [
      "Lorem ipsum\n",
      "elit\n",
      "Lrmism\n",
      "muspi meroL\n"
     ]
    }
   ],
   "source": [
    "print(s[:11])\n",
    "print(s[-5:-1])\n",
    "print(s[:11:2])\n",
    "print(s[10::-1])"
   ]
  },
  {
   "cell_type": "code",
   "execution_count": null,
   "metadata": {
    "collapsed": false
   },
   "outputs": [],
   "source": []
  },
  {
   "cell_type": "markdown",
   "metadata": {},
   "source": [
    "# List comprehensions"
   ]
  },
  {
   "cell_type": "markdown",
   "metadata": {},
   "source": [
    "Create a list $[x_0,x_1,x_2,...]$ where $x_n = 2^x$."
   ]
  },
  {
   "cell_type": "code",
   "execution_count": 41,
   "metadata": {
    "collapsed": false
   },
   "outputs": [
    {
     "name": "stdout",
     "output_type": "stream",
     "text": [
      "[1, 2, 4, 8, 16, 32, 64, 128, 256, 512]\n"
     ]
    }
   ],
   "source": [
    "print([2**x for x in range(10)])"
   ]
  },
  {
   "cell_type": "markdown",
   "metadata": {},
   "source": [
    "Create a list containing all numbers between 0 and 100 which are divisible by 3 and 4 but not divisible by 10."
   ]
  },
  {
   "cell_type": "code",
   "execution_count": 42,
   "metadata": {
    "collapsed": false
   },
   "outputs": [
    {
     "name": "stdout",
     "output_type": "stream",
     "text": [
      "[12, 24, 36, 48, 72, 84, 96]\n"
     ]
    }
   ],
   "source": [
    "print([x for x in range(100) if x%3==0 and x%4==0 and not x%10==0])"
   ]
  },
  {
   "cell_type": "markdown",
   "metadata": {},
   "source": [
    "# Outlook"
   ]
  },
  {
   "cell_type": "code",
   "execution_count": 71,
   "metadata": {
    "collapsed": true
   },
   "outputs": [],
   "source": [
    "import antigravity"
   ]
  },
  {
   "cell_type": "code",
   "execution_count": null,
   "metadata": {
    "collapsed": true
   },
   "outputs": [],
   "source": []
  }
 ],
 "metadata": {
  "kernelspec": {
   "display_name": "Python 3",
   "language": "python",
   "name": "python3"
  },
  "language_info": {
   "codemirror_mode": {
    "name": "ipython",
    "version": 3
   },
   "file_extension": ".py",
   "mimetype": "text/x-python",
   "name": "python",
   "nbconvert_exporter": "python",
   "pygments_lexer": "ipython3",
   "version": "3.4.3"
  }
 },
 "nbformat": 4,
 "nbformat_minor": 0
}
